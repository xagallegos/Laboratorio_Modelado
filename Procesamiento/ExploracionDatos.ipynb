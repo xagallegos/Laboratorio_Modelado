{
 "cells": [
  {
   "cell_type": "markdown",
   "metadata": {},
   "source": [
    "___\n",
    "<img style=\"float: right; margin: 0px 0px 15px 15px;\" src=\"https://p0.pikrepo.com/preview/226/186/artificial-intelligence-concept.jpg\" width=\"350px\" height=\"180px\" />\n",
    "\n",
    "\n",
    "# <font color= #8A0829> Laboratorio de Modelado de Datos </font>\n",
    "#### <font color= #2E9AFE> `Martes y Viernes (Videoconferencia) de 13:00 - 15:00 hrs`</font>\n",
    "- <Strong> Sara Eugenia Rodríguez </Strong>\n",
    "- <Strong> Año </Strong>: 2023\n",
    "- <Strong> Email: </Strong>  <font color=\"blue\"> `cd682324@iteso.mx` </font>\n",
    "___\n",
    "\n",
    "<p style=\"text-align:right;\"> Imagen recuperada de: https://p0.pikrepo.com/preview/226/186/artificial-intelligence-concept.jpg.</p>\n",
    "\n",
    "### <font color= #2E9AFE> Tema: Procesamiento de Datos</font>"
   ]
  },
  {
   "cell_type": "markdown",
   "metadata": {},
   "source": [
    "#### Datos: Glass Identification Data Set\n",
    "Los datos se pueden encontrar en:\n",
    "https://archive.ics.uci.edu/ml/datasets/glass+identification\n",
    "\n",
    "Se busca identificar qué tipo de vidrio es una muestra. \n",
    "\n",
    "\n",
    "- 1. Id number: 1 a 214\n",
    "- 2. RI: Indice Refractivo(medida para saber cuánto se reduce la velocidad de la luz al atravesarlo)\n",
    "- 3. Na: Sodio (unidad de medida: porcentaje en peso en el óxido correspondiente, como son los atributos 4-10)\n",
    "- 4. Mg: Magnesio\n",
    "- 5. Al: Aluminio\n",
    "- 6. Si: Silicon\n",
    "- 7. K: Potasio\n",
    "- 8. Ca: Calcio\n",
    "- 9. Ba: Bario\n",
    "- 10. Fe: Hierro\n",
    "- 11. Tipo de Vidrio: \n",
    "-- 1 ventanas de edificios procesadas por flotación \n",
    "-- 2 ventanas de edificios no procesadas por flotación \n",
    "-- 3 ventanas de vehículos procesadas por flotación\n",
    "-- 4 ventanas de vehículos no procesadas por flotación \n",
    "-- 5 contenedores\n",
    "-- 6 vajilla\n",
    "-- 7 faros\n",
    "\n",
    "<img style=\"float: right; margin: 0px 0px 15px 15px;\" src=\"https://archive.ics.uci.edu/ml/assets/logo.gif\" width=\"350px\" height=\"180px\" />\n",
    "\n"
   ]
  },
  {
   "cell_type": "markdown",
   "metadata": {},
   "source": [
    "### Librerías\n",
    "\n",
    "\n",
    "Las librerías son un conjunto de módulos y paquetes donde muchas de las operaciones más comúnes de la programación diaria ya están implementadas en ellas, de modo que podemos concentrarnos en lo que realmente nos ocupa. "
   ]
  },
  {
   "cell_type": "code",
   "execution_count": 1,
   "metadata": {},
   "outputs": [],
   "source": [
    "# pip install pandas"
   ]
  },
  {
   "cell_type": "code",
   "execution_count": 2,
   "metadata": {},
   "outputs": [],
   "source": [
    "#Importar Librerías\n",
    "import numpy as np #para trabajar con arreglos numéricos\n",
    "import pandas as pd #para trabajar con dataframes\n",
    "import matplotlib.pyplot as plt #visualizaciones\n",
    "import seaborn as sns #visualizaciones\n",
    "from sklearn import preprocessing #librería de machine learning en python"
   ]
  },
  {
   "cell_type": "markdown",
   "metadata": {},
   "source": [
    "Más información sobre qué es una librería:\n",
    "\n",
    "https://immune.institute/blog/librerias-python-que-son/"
   ]
  },
  {
   "cell_type": "code",
   "execution_count": 3,
   "metadata": {},
   "outputs": [],
   "source": [
    "#Importar datos\n",
    "\n",
    "#los archivos \".data\" los podemos leer con la función read_csv pero es necesario decirle cómo se llaman nuestras variables\n",
    "data = pd.read_csv('glass.data',header=None)\n",
    "names = ['ID','Indice_Refraccion','Na','Mg','Al','Si','K', 'Ca','Ba','Fe','Tipo_Vidrio']\n",
    "data.columns = names"
   ]
  },
  {
   "cell_type": "markdown",
   "metadata": {},
   "source": [
    "Al leer archivos `.data` es necesario especificar los nombres de las columnas"
   ]
  },
  {
   "cell_type": "code",
   "execution_count": 4,
   "metadata": {},
   "outputs": [
    {
     "data": {
      "text/plain": [
       "pandas.core.frame.DataFrame"
      ]
     },
     "execution_count": 4,
     "metadata": {},
     "output_type": "execute_result"
    }
   ],
   "source": [
    "#¿Qué es data?\n",
    "type(data)"
   ]
  },
  {
   "cell_type": "code",
   "execution_count": 5,
   "metadata": {},
   "outputs": [
    {
     "data": {
      "text/plain": [
       "(214, 11)"
      ]
     },
     "execution_count": 5,
     "metadata": {},
     "output_type": "execute_result"
    }
   ],
   "source": [
    "#Dimension de los datos\n",
    "data.shape"
   ]
  },
  {
   "cell_type": "code",
   "execution_count": 6,
   "metadata": {},
   "outputs": [
    {
     "data": {
      "text/html": [
       "<div>\n",
       "<style scoped>\n",
       "    .dataframe tbody tr th:only-of-type {\n",
       "        vertical-align: middle;\n",
       "    }\n",
       "\n",
       "    .dataframe tbody tr th {\n",
       "        vertical-align: top;\n",
       "    }\n",
       "\n",
       "    .dataframe thead th {\n",
       "        text-align: right;\n",
       "    }\n",
       "</style>\n",
       "<table border=\"1\" class=\"dataframe\">\n",
       "  <thead>\n",
       "    <tr style=\"text-align: right;\">\n",
       "      <th></th>\n",
       "      <th>ID</th>\n",
       "      <th>Indice_Refraccion</th>\n",
       "      <th>Na</th>\n",
       "      <th>Mg</th>\n",
       "      <th>Al</th>\n",
       "      <th>Si</th>\n",
       "      <th>K</th>\n",
       "      <th>Ca</th>\n",
       "      <th>Ba</th>\n",
       "      <th>Fe</th>\n",
       "      <th>Tipo_Vidrio</th>\n",
       "    </tr>\n",
       "  </thead>\n",
       "  <tbody>\n",
       "    <tr>\n",
       "      <th>0</th>\n",
       "      <td>1</td>\n",
       "      <td>1.52101</td>\n",
       "      <td>13.64</td>\n",
       "      <td>4.49</td>\n",
       "      <td>1.10</td>\n",
       "      <td>71.78</td>\n",
       "      <td>0.06</td>\n",
       "      <td>8.75</td>\n",
       "      <td>0.0</td>\n",
       "      <td>0.0</td>\n",
       "      <td>1</td>\n",
       "    </tr>\n",
       "    <tr>\n",
       "      <th>1</th>\n",
       "      <td>2</td>\n",
       "      <td>1.51761</td>\n",
       "      <td>13.89</td>\n",
       "      <td>3.60</td>\n",
       "      <td>1.36</td>\n",
       "      <td>72.73</td>\n",
       "      <td>0.48</td>\n",
       "      <td>7.83</td>\n",
       "      <td>0.0</td>\n",
       "      <td>0.0</td>\n",
       "      <td>1</td>\n",
       "    </tr>\n",
       "    <tr>\n",
       "      <th>2</th>\n",
       "      <td>3</td>\n",
       "      <td>1.51618</td>\n",
       "      <td>13.53</td>\n",
       "      <td>3.55</td>\n",
       "      <td>1.54</td>\n",
       "      <td>72.99</td>\n",
       "      <td>0.39</td>\n",
       "      <td>7.78</td>\n",
       "      <td>0.0</td>\n",
       "      <td>0.0</td>\n",
       "      <td>1</td>\n",
       "    </tr>\n",
       "    <tr>\n",
       "      <th>3</th>\n",
       "      <td>4</td>\n",
       "      <td>1.51766</td>\n",
       "      <td>13.21</td>\n",
       "      <td>3.69</td>\n",
       "      <td>1.29</td>\n",
       "      <td>72.61</td>\n",
       "      <td>0.57</td>\n",
       "      <td>8.22</td>\n",
       "      <td>0.0</td>\n",
       "      <td>0.0</td>\n",
       "      <td>1</td>\n",
       "    </tr>\n",
       "    <tr>\n",
       "      <th>4</th>\n",
       "      <td>5</td>\n",
       "      <td>1.51742</td>\n",
       "      <td>13.27</td>\n",
       "      <td>3.62</td>\n",
       "      <td>1.24</td>\n",
       "      <td>73.08</td>\n",
       "      <td>0.55</td>\n",
       "      <td>8.07</td>\n",
       "      <td>0.0</td>\n",
       "      <td>0.0</td>\n",
       "      <td>1</td>\n",
       "    </tr>\n",
       "  </tbody>\n",
       "</table>\n",
       "</div>"
      ],
      "text/plain": [
       "   ID  Indice_Refraccion     Na    Mg    Al     Si     K    Ca   Ba   Fe  \\\n",
       "0   1            1.52101  13.64  4.49  1.10  71.78  0.06  8.75  0.0  0.0   \n",
       "1   2            1.51761  13.89  3.60  1.36  72.73  0.48  7.83  0.0  0.0   \n",
       "2   3            1.51618  13.53  3.55  1.54  72.99  0.39  7.78  0.0  0.0   \n",
       "3   4            1.51766  13.21  3.69  1.29  72.61  0.57  8.22  0.0  0.0   \n",
       "4   5            1.51742  13.27  3.62  1.24  73.08  0.55  8.07  0.0  0.0   \n",
       "\n",
       "   Tipo_Vidrio  \n",
       "0            1  \n",
       "1            1  \n",
       "2            1  \n",
       "3            1  \n",
       "4            1  "
      ]
     },
     "execution_count": 6,
     "metadata": {},
     "output_type": "execute_result"
    }
   ],
   "source": [
    "#Vistazo de datos\n",
    "data.head()"
   ]
  },
  {
   "cell_type": "code",
   "execution_count": 7,
   "metadata": {},
   "outputs": [
    {
     "data": {
      "text/plain": [
       "ID                     int64\n",
       "Indice_Refraccion    float64\n",
       "Na                   float64\n",
       "Mg                   float64\n",
       "Al                   float64\n",
       "Si                   float64\n",
       "K                    float64\n",
       "Ca                   float64\n",
       "Ba                   float64\n",
       "Fe                   float64\n",
       "Tipo_Vidrio            int64\n",
       "dtype: object"
      ]
     },
     "execution_count": 7,
     "metadata": {},
     "output_type": "execute_result"
    }
   ],
   "source": [
    "#Tipo de cada dato\n",
    "data.dtypes"
   ]
  },
  {
   "cell_type": "code",
   "execution_count": 8,
   "metadata": {},
   "outputs": [
    {
     "data": {
      "text/html": [
       "<div>\n",
       "<style scoped>\n",
       "    .dataframe tbody tr th:only-of-type {\n",
       "        vertical-align: middle;\n",
       "    }\n",
       "\n",
       "    .dataframe tbody tr th {\n",
       "        vertical-align: top;\n",
       "    }\n",
       "\n",
       "    .dataframe thead th {\n",
       "        text-align: right;\n",
       "    }\n",
       "</style>\n",
       "<table border=\"1\" class=\"dataframe\">\n",
       "  <thead>\n",
       "    <tr style=\"text-align: right;\">\n",
       "      <th></th>\n",
       "      <th>Tipo</th>\n",
       "    </tr>\n",
       "  </thead>\n",
       "  <tbody>\n",
       "    <tr>\n",
       "      <th>ID</th>\n",
       "      <td>int64</td>\n",
       "    </tr>\n",
       "    <tr>\n",
       "      <th>Indice_Refraccion</th>\n",
       "      <td>float64</td>\n",
       "    </tr>\n",
       "    <tr>\n",
       "      <th>Na</th>\n",
       "      <td>float64</td>\n",
       "    </tr>\n",
       "    <tr>\n",
       "      <th>Mg</th>\n",
       "      <td>float64</td>\n",
       "    </tr>\n",
       "    <tr>\n",
       "      <th>Al</th>\n",
       "      <td>float64</td>\n",
       "    </tr>\n",
       "    <tr>\n",
       "      <th>Si</th>\n",
       "      <td>float64</td>\n",
       "    </tr>\n",
       "    <tr>\n",
       "      <th>K</th>\n",
       "      <td>float64</td>\n",
       "    </tr>\n",
       "    <tr>\n",
       "      <th>Ca</th>\n",
       "      <td>float64</td>\n",
       "    </tr>\n",
       "    <tr>\n",
       "      <th>Ba</th>\n",
       "      <td>float64</td>\n",
       "    </tr>\n",
       "    <tr>\n",
       "      <th>Fe</th>\n",
       "      <td>float64</td>\n",
       "    </tr>\n",
       "    <tr>\n",
       "      <th>Tipo_Vidrio</th>\n",
       "      <td>int64</td>\n",
       "    </tr>\n",
       "  </tbody>\n",
       "</table>\n",
       "</div>"
      ],
      "text/plain": [
       "                      Tipo\n",
       "ID                   int64\n",
       "Indice_Refraccion  float64\n",
       "Na                 float64\n",
       "Mg                 float64\n",
       "Al                 float64\n",
       "Si                 float64\n",
       "K                  float64\n",
       "Ca                 float64\n",
       "Ba                 float64\n",
       "Fe                 float64\n",
       "Tipo_Vidrio          int64"
      ]
     },
     "execution_count": 8,
     "metadata": {},
     "output_type": "execute_result"
    }
   ],
   "source": [
    "#Tipos de datos\n",
    "dtypes = pd.DataFrame(data.dtypes, columns=['Tipo'])\n",
    "dtypes"
   ]
  },
  {
   "cell_type": "code",
   "execution_count": 9,
   "metadata": {},
   "outputs": [
    {
     "data": {
      "text/plain": [
       "0"
      ]
     },
     "execution_count": 9,
     "metadata": {},
     "output_type": "execute_result"
    }
   ],
   "source": [
    "#valores nulos de una columna\n",
    "data.iloc[:,3].isnull().sum()"
   ]
  },
  {
   "cell_type": "code",
   "execution_count": 10,
   "metadata": {},
   "outputs": [
    {
     "data": {
      "text/html": [
       "<div>\n",
       "<style scoped>\n",
       "    .dataframe tbody tr th:only-of-type {\n",
       "        vertical-align: middle;\n",
       "    }\n",
       "\n",
       "    .dataframe tbody tr th {\n",
       "        vertical-align: top;\n",
       "    }\n",
       "\n",
       "    .dataframe thead th {\n",
       "        text-align: right;\n",
       "    }\n",
       "</style>\n",
       "<table border=\"1\" class=\"dataframe\">\n",
       "  <thead>\n",
       "    <tr style=\"text-align: right;\">\n",
       "      <th></th>\n",
       "      <th>Valores_Nulos</th>\n",
       "    </tr>\n",
       "  </thead>\n",
       "  <tbody>\n",
       "    <tr>\n",
       "      <th>ID</th>\n",
       "      <td>0</td>\n",
       "    </tr>\n",
       "    <tr>\n",
       "      <th>Indice_Refraccion</th>\n",
       "      <td>0</td>\n",
       "    </tr>\n",
       "    <tr>\n",
       "      <th>Na</th>\n",
       "      <td>0</td>\n",
       "    </tr>\n",
       "    <tr>\n",
       "      <th>Mg</th>\n",
       "      <td>0</td>\n",
       "    </tr>\n",
       "    <tr>\n",
       "      <th>Al</th>\n",
       "      <td>0</td>\n",
       "    </tr>\n",
       "    <tr>\n",
       "      <th>Si</th>\n",
       "      <td>0</td>\n",
       "    </tr>\n",
       "    <tr>\n",
       "      <th>K</th>\n",
       "      <td>0</td>\n",
       "    </tr>\n",
       "    <tr>\n",
       "      <th>Ca</th>\n",
       "      <td>0</td>\n",
       "    </tr>\n",
       "    <tr>\n",
       "      <th>Ba</th>\n",
       "      <td>0</td>\n",
       "    </tr>\n",
       "    <tr>\n",
       "      <th>Fe</th>\n",
       "      <td>0</td>\n",
       "    </tr>\n",
       "    <tr>\n",
       "      <th>Tipo_Vidrio</th>\n",
       "      <td>0</td>\n",
       "    </tr>\n",
       "  </tbody>\n",
       "</table>\n",
       "</div>"
      ],
      "text/plain": [
       "                   Valores_Nulos\n",
       "ID                             0\n",
       "Indice_Refraccion              0\n",
       "Na                             0\n",
       "Mg                             0\n",
       "Al                             0\n",
       "Si                             0\n",
       "K                              0\n",
       "Ca                             0\n",
       "Ba                             0\n",
       "Fe                             0\n",
       "Tipo_Vidrio                    0"
      ]
     },
     "execution_count": 10,
     "metadata": {},
     "output_type": "execute_result"
    }
   ],
   "source": [
    "#Valores nulos\n",
    "missing = pd.DataFrame(data.isnull().sum(),columns=['Valores_Nulos'])\n",
    "missing"
   ]
  },
  {
   "cell_type": "markdown",
   "metadata": {},
   "source": [
    "Todo bien! no hay valores nulos"
   ]
  },
  {
   "cell_type": "code",
   "execution_count": 11,
   "metadata": {
    "scrolled": true
   },
   "outputs": [
    {
     "data": {
      "text/plain": [
       "94"
      ]
     },
     "execution_count": 11,
     "metadata": {},
     "output_type": "execute_result"
    }
   ],
   "source": [
    "#valores unicos de una columna\n",
    "data.iloc[:,3].nunique()"
   ]
  },
  {
   "cell_type": "code",
   "execution_count": 12,
   "metadata": {},
   "outputs": [
    {
     "data": {
      "text/html": [
       "<div>\n",
       "<style scoped>\n",
       "    .dataframe tbody tr th:only-of-type {\n",
       "        vertical-align: middle;\n",
       "    }\n",
       "\n",
       "    .dataframe tbody tr th {\n",
       "        vertical-align: top;\n",
       "    }\n",
       "\n",
       "    .dataframe thead th {\n",
       "        text-align: right;\n",
       "    }\n",
       "</style>\n",
       "<table border=\"1\" class=\"dataframe\">\n",
       "  <thead>\n",
       "    <tr style=\"text-align: right;\">\n",
       "      <th></th>\n",
       "      <th>Valores_Unicos</th>\n",
       "    </tr>\n",
       "  </thead>\n",
       "  <tbody>\n",
       "    <tr>\n",
       "      <th>ID</th>\n",
       "      <td>214</td>\n",
       "    </tr>\n",
       "    <tr>\n",
       "      <th>Indice_Refraccion</th>\n",
       "      <td>178</td>\n",
       "    </tr>\n",
       "    <tr>\n",
       "      <th>Na</th>\n",
       "      <td>142</td>\n",
       "    </tr>\n",
       "    <tr>\n",
       "      <th>Mg</th>\n",
       "      <td>94</td>\n",
       "    </tr>\n",
       "    <tr>\n",
       "      <th>Al</th>\n",
       "      <td>118</td>\n",
       "    </tr>\n",
       "    <tr>\n",
       "      <th>Si</th>\n",
       "      <td>133</td>\n",
       "    </tr>\n",
       "    <tr>\n",
       "      <th>K</th>\n",
       "      <td>65</td>\n",
       "    </tr>\n",
       "    <tr>\n",
       "      <th>Ca</th>\n",
       "      <td>143</td>\n",
       "    </tr>\n",
       "    <tr>\n",
       "      <th>Ba</th>\n",
       "      <td>34</td>\n",
       "    </tr>\n",
       "    <tr>\n",
       "      <th>Fe</th>\n",
       "      <td>32</td>\n",
       "    </tr>\n",
       "    <tr>\n",
       "      <th>Tipo_Vidrio</th>\n",
       "      <td>6</td>\n",
       "    </tr>\n",
       "  </tbody>\n",
       "</table>\n",
       "</div>"
      ],
      "text/plain": [
       "                   Valores_Unicos\n",
       "ID                            214\n",
       "Indice_Refraccion             178\n",
       "Na                            142\n",
       "Mg                             94\n",
       "Al                            118\n",
       "Si                            133\n",
       "K                              65\n",
       "Ca                            143\n",
       "Ba                             34\n",
       "Fe                             32\n",
       "Tipo_Vidrio                     6"
      ]
     },
     "execution_count": 12,
     "metadata": {},
     "output_type": "execute_result"
    }
   ],
   "source": [
    "#valores únicos\n",
    "unival = pd.DataFrame(data.nunique(), columns=['Valores_Unicos'])\n",
    "unival"
   ]
  },
  {
   "cell_type": "code",
   "execution_count": 13,
   "metadata": {},
   "outputs": [
    {
     "data": {
      "text/plain": [
       "array([1, 2, 3, 5, 6, 7], dtype=int64)"
      ]
     },
     "execution_count": 13,
     "metadata": {},
     "output_type": "execute_result"
    }
   ],
   "source": [
    "data.Tipo_Vidrio.unique()"
   ]
  },
  {
   "cell_type": "code",
   "execution_count": 14,
   "metadata": {},
   "outputs": [
    {
     "data": {
      "text/html": [
       "<div>\n",
       "<style scoped>\n",
       "    .dataframe tbody tr th:only-of-type {\n",
       "        vertical-align: middle;\n",
       "    }\n",
       "\n",
       "    .dataframe tbody tr th {\n",
       "        vertical-align: top;\n",
       "    }\n",
       "\n",
       "    .dataframe thead th {\n",
       "        text-align: right;\n",
       "    }\n",
       "</style>\n",
       "<table border=\"1\" class=\"dataframe\">\n",
       "  <thead>\n",
       "    <tr style=\"text-align: right;\">\n",
       "      <th></th>\n",
       "      <th>ID</th>\n",
       "      <th>Indice_Refraccion</th>\n",
       "      <th>Na</th>\n",
       "      <th>Mg</th>\n",
       "      <th>Al</th>\n",
       "      <th>Si</th>\n",
       "      <th>K</th>\n",
       "      <th>Ca</th>\n",
       "      <th>Ba</th>\n",
       "      <th>Fe</th>\n",
       "      <th>Tipo_Vidrio</th>\n",
       "    </tr>\n",
       "  </thead>\n",
       "  <tbody>\n",
       "    <tr>\n",
       "      <th>count</th>\n",
       "      <td>214.000000</td>\n",
       "      <td>214.000000</td>\n",
       "      <td>214.000000</td>\n",
       "      <td>214.000000</td>\n",
       "      <td>214.000000</td>\n",
       "      <td>214.000000</td>\n",
       "      <td>214.000000</td>\n",
       "      <td>214.000000</td>\n",
       "      <td>214.000000</td>\n",
       "      <td>214.000000</td>\n",
       "      <td>214.000000</td>\n",
       "    </tr>\n",
       "    <tr>\n",
       "      <th>mean</th>\n",
       "      <td>107.500000</td>\n",
       "      <td>1.518365</td>\n",
       "      <td>13.407850</td>\n",
       "      <td>2.684533</td>\n",
       "      <td>1.444907</td>\n",
       "      <td>72.650935</td>\n",
       "      <td>0.497056</td>\n",
       "      <td>8.956963</td>\n",
       "      <td>0.175047</td>\n",
       "      <td>0.057009</td>\n",
       "      <td>2.780374</td>\n",
       "    </tr>\n",
       "    <tr>\n",
       "      <th>std</th>\n",
       "      <td>61.920648</td>\n",
       "      <td>0.003037</td>\n",
       "      <td>0.816604</td>\n",
       "      <td>1.442408</td>\n",
       "      <td>0.499270</td>\n",
       "      <td>0.774546</td>\n",
       "      <td>0.652192</td>\n",
       "      <td>1.423153</td>\n",
       "      <td>0.497219</td>\n",
       "      <td>0.097439</td>\n",
       "      <td>2.103739</td>\n",
       "    </tr>\n",
       "    <tr>\n",
       "      <th>min</th>\n",
       "      <td>1.000000</td>\n",
       "      <td>1.511150</td>\n",
       "      <td>10.730000</td>\n",
       "      <td>0.000000</td>\n",
       "      <td>0.290000</td>\n",
       "      <td>69.810000</td>\n",
       "      <td>0.000000</td>\n",
       "      <td>5.430000</td>\n",
       "      <td>0.000000</td>\n",
       "      <td>0.000000</td>\n",
       "      <td>1.000000</td>\n",
       "    </tr>\n",
       "    <tr>\n",
       "      <th>25%</th>\n",
       "      <td>54.250000</td>\n",
       "      <td>1.516522</td>\n",
       "      <td>12.907500</td>\n",
       "      <td>2.115000</td>\n",
       "      <td>1.190000</td>\n",
       "      <td>72.280000</td>\n",
       "      <td>0.122500</td>\n",
       "      <td>8.240000</td>\n",
       "      <td>0.000000</td>\n",
       "      <td>0.000000</td>\n",
       "      <td>1.000000</td>\n",
       "    </tr>\n",
       "    <tr>\n",
       "      <th>50%</th>\n",
       "      <td>107.500000</td>\n",
       "      <td>1.517680</td>\n",
       "      <td>13.300000</td>\n",
       "      <td>3.480000</td>\n",
       "      <td>1.360000</td>\n",
       "      <td>72.790000</td>\n",
       "      <td>0.555000</td>\n",
       "      <td>8.600000</td>\n",
       "      <td>0.000000</td>\n",
       "      <td>0.000000</td>\n",
       "      <td>2.000000</td>\n",
       "    </tr>\n",
       "    <tr>\n",
       "      <th>75%</th>\n",
       "      <td>160.750000</td>\n",
       "      <td>1.519157</td>\n",
       "      <td>13.825000</td>\n",
       "      <td>3.600000</td>\n",
       "      <td>1.630000</td>\n",
       "      <td>73.087500</td>\n",
       "      <td>0.610000</td>\n",
       "      <td>9.172500</td>\n",
       "      <td>0.000000</td>\n",
       "      <td>0.100000</td>\n",
       "      <td>3.000000</td>\n",
       "    </tr>\n",
       "    <tr>\n",
       "      <th>max</th>\n",
       "      <td>214.000000</td>\n",
       "      <td>1.533930</td>\n",
       "      <td>17.380000</td>\n",
       "      <td>4.490000</td>\n",
       "      <td>3.500000</td>\n",
       "      <td>75.410000</td>\n",
       "      <td>6.210000</td>\n",
       "      <td>16.190000</td>\n",
       "      <td>3.150000</td>\n",
       "      <td>0.510000</td>\n",
       "      <td>7.000000</td>\n",
       "    </tr>\n",
       "  </tbody>\n",
       "</table>\n",
       "</div>"
      ],
      "text/plain": [
       "               ID  Indice_Refraccion          Na          Mg          Al  \\\n",
       "count  214.000000         214.000000  214.000000  214.000000  214.000000   \n",
       "mean   107.500000           1.518365   13.407850    2.684533    1.444907   \n",
       "std     61.920648           0.003037    0.816604    1.442408    0.499270   \n",
       "min      1.000000           1.511150   10.730000    0.000000    0.290000   \n",
       "25%     54.250000           1.516522   12.907500    2.115000    1.190000   \n",
       "50%    107.500000           1.517680   13.300000    3.480000    1.360000   \n",
       "75%    160.750000           1.519157   13.825000    3.600000    1.630000   \n",
       "max    214.000000           1.533930   17.380000    4.490000    3.500000   \n",
       "\n",
       "               Si           K          Ca          Ba          Fe  Tipo_Vidrio  \n",
       "count  214.000000  214.000000  214.000000  214.000000  214.000000   214.000000  \n",
       "mean    72.650935    0.497056    8.956963    0.175047    0.057009     2.780374  \n",
       "std      0.774546    0.652192    1.423153    0.497219    0.097439     2.103739  \n",
       "min     69.810000    0.000000    5.430000    0.000000    0.000000     1.000000  \n",
       "25%     72.280000    0.122500    8.240000    0.000000    0.000000     1.000000  \n",
       "50%     72.790000    0.555000    8.600000    0.000000    0.000000     2.000000  \n",
       "75%     73.087500    0.610000    9.172500    0.000000    0.100000     3.000000  \n",
       "max     75.410000    6.210000   16.190000    3.150000    0.510000     7.000000  "
      ]
     },
     "execution_count": 14,
     "metadata": {},
     "output_type": "execute_result"
    }
   ],
   "source": [
    "#Detalles estadísticos\n",
    "data.describe(include='all')"
   ]
  },
  {
   "cell_type": "code",
   "execution_count": 15,
   "metadata": {},
   "outputs": [
    {
     "data": {
      "text/html": [
       "<div>\n",
       "<style scoped>\n",
       "    .dataframe tbody tr th:only-of-type {\n",
       "        vertical-align: middle;\n",
       "    }\n",
       "\n",
       "    .dataframe tbody tr th {\n",
       "        vertical-align: top;\n",
       "    }\n",
       "\n",
       "    .dataframe thead th {\n",
       "        text-align: right;\n",
       "    }\n",
       "</style>\n",
       "<table border=\"1\" class=\"dataframe\">\n",
       "  <thead>\n",
       "    <tr style=\"text-align: right;\">\n",
       "      <th></th>\n",
       "      <th>Tipo</th>\n",
       "      <th>Valores_Nulos</th>\n",
       "      <th>Valores_Unicos</th>\n",
       "      <th>Max</th>\n",
       "      <th>Min</th>\n",
       "    </tr>\n",
       "  </thead>\n",
       "  <tbody>\n",
       "    <tr>\n",
       "      <th>ID</th>\n",
       "      <td>int64</td>\n",
       "      <td>0</td>\n",
       "      <td>214</td>\n",
       "      <td>214.00000</td>\n",
       "      <td>1.00000</td>\n",
       "    </tr>\n",
       "    <tr>\n",
       "      <th>Indice_Refraccion</th>\n",
       "      <td>float64</td>\n",
       "      <td>0</td>\n",
       "      <td>178</td>\n",
       "      <td>1.53393</td>\n",
       "      <td>1.51115</td>\n",
       "    </tr>\n",
       "    <tr>\n",
       "      <th>Na</th>\n",
       "      <td>float64</td>\n",
       "      <td>0</td>\n",
       "      <td>142</td>\n",
       "      <td>17.38000</td>\n",
       "      <td>10.73000</td>\n",
       "    </tr>\n",
       "    <tr>\n",
       "      <th>Mg</th>\n",
       "      <td>float64</td>\n",
       "      <td>0</td>\n",
       "      <td>94</td>\n",
       "      <td>4.49000</td>\n",
       "      <td>0.00000</td>\n",
       "    </tr>\n",
       "    <tr>\n",
       "      <th>Al</th>\n",
       "      <td>float64</td>\n",
       "      <td>0</td>\n",
       "      <td>118</td>\n",
       "      <td>3.50000</td>\n",
       "      <td>0.29000</td>\n",
       "    </tr>\n",
       "    <tr>\n",
       "      <th>Si</th>\n",
       "      <td>float64</td>\n",
       "      <td>0</td>\n",
       "      <td>133</td>\n",
       "      <td>75.41000</td>\n",
       "      <td>69.81000</td>\n",
       "    </tr>\n",
       "    <tr>\n",
       "      <th>K</th>\n",
       "      <td>float64</td>\n",
       "      <td>0</td>\n",
       "      <td>65</td>\n",
       "      <td>6.21000</td>\n",
       "      <td>0.00000</td>\n",
       "    </tr>\n",
       "    <tr>\n",
       "      <th>Ca</th>\n",
       "      <td>float64</td>\n",
       "      <td>0</td>\n",
       "      <td>143</td>\n",
       "      <td>16.19000</td>\n",
       "      <td>5.43000</td>\n",
       "    </tr>\n",
       "    <tr>\n",
       "      <th>Ba</th>\n",
       "      <td>float64</td>\n",
       "      <td>0</td>\n",
       "      <td>34</td>\n",
       "      <td>3.15000</td>\n",
       "      <td>0.00000</td>\n",
       "    </tr>\n",
       "    <tr>\n",
       "      <th>Fe</th>\n",
       "      <td>float64</td>\n",
       "      <td>0</td>\n",
       "      <td>32</td>\n",
       "      <td>0.51000</td>\n",
       "      <td>0.00000</td>\n",
       "    </tr>\n",
       "    <tr>\n",
       "      <th>Tipo_Vidrio</th>\n",
       "      <td>int64</td>\n",
       "      <td>0</td>\n",
       "      <td>6</td>\n",
       "      <td>7.00000</td>\n",
       "      <td>1.00000</td>\n",
       "    </tr>\n",
       "  </tbody>\n",
       "</table>\n",
       "</div>"
      ],
      "text/plain": [
       "                      Tipo  Valores_Nulos  Valores_Unicos        Max       Min\n",
       "ID                   int64              0             214  214.00000   1.00000\n",
       "Indice_Refraccion  float64              0             178    1.53393   1.51115\n",
       "Na                 float64              0             142   17.38000  10.73000\n",
       "Mg                 float64              0              94    4.49000   0.00000\n",
       "Al                 float64              0             118    3.50000   0.29000\n",
       "Si                 float64              0             133   75.41000  69.81000\n",
       "K                  float64              0              65    6.21000   0.00000\n",
       "Ca                 float64              0             143   16.19000   5.43000\n",
       "Ba                 float64              0              34    3.15000   0.00000\n",
       "Fe                 float64              0              32    0.51000   0.00000\n",
       "Tipo_Vidrio          int64              0               6    7.00000   1.00000"
      ]
     },
     "execution_count": 15,
     "metadata": {},
     "output_type": "execute_result"
    }
   ],
   "source": [
    "#Visualizar todo junto\n",
    "def reporte(datos):\n",
    "    dtyp = pd.DataFrame(datos.dtypes, columns=['Tipo'])\n",
    "    missing = pd.DataFrame(datos.isnull().sum(), columns=['Valores_Nulos'])\n",
    "    unival = pd.DataFrame(data.nunique(), columns=['Valores_Unicos'])\n",
    "    maximo = pd.DataFrame(data.max(), columns=['Max'])\n",
    "    minimo = pd.DataFrame(data.min(), columns=['Min'])\n",
    "    return dtyp.join(missing).join(unival).join(maximo).join(minimo)\n",
    "reporte(data)"
   ]
  },
  {
   "cell_type": "markdown",
   "metadata": {},
   "source": [
    "¿En verdad son todas las variables numéricas?\n",
    "<font color= #8A0829> NO </font>"
   ]
  },
  {
   "cell_type": "code",
   "execution_count": 16,
   "metadata": {},
   "outputs": [
    {
     "data": {
      "image/png": "[encoded data removed]",
      "text/plain": [
       "<Figure size 432x288 with 1 Axes>"
      ]
     },
     "metadata": {
      "needs_background": "light"
     },
     "output_type": "display_data"
    }
   ],
   "source": [
    "#Graficar variables\n",
    "plt.scatter(data.Tipo_Vidrio, data.Indice_Refraccion)\n",
    "plt.xlabel('Tipo Vidrio'),plt.ylabel('Indice de Refraccion')\n",
    "plt.title(\"Indice Refracion vs Tipo Vidrio\")\n",
    "plt.grid()\n",
    "plt.show()"
   ]
  },
  {
   "cell_type": "code",
   "execution_count": 17,
   "metadata": {},
   "outputs": [
    {
     "data": {
      "text/plain": [
       "2    76\n",
       "1    70\n",
       "7    29\n",
       "3    17\n",
       "5    13\n",
       "6     9\n",
       "Name: Tipo_Vidrio, dtype: int64"
      ]
     },
     "execution_count": 17,
     "metadata": {},
     "output_type": "execute_result"
    }
   ],
   "source": [
    "#cuántos datos hay de cada tipo de vidrio\n",
    "data.Tipo_Vidrio.value_counts()"
   ]
  },
  {
   "cell_type": "code",
   "execution_count": 18,
   "metadata": {},
   "outputs": [
    {
     "data": {
      "image/png": "[encoded data removed]",
      "text/plain": [
       "<Figure size 432x288 with 1 Axes>"
      ]
     },
     "metadata": {
      "needs_background": "light"
     },
     "output_type": "display_data"
    }
   ],
   "source": [
    "#Graficar una sola variable\n",
    "plt.scatter(data.ID, data.Indice_Refraccion)\n",
    "plt.xlabel('ID'),plt.ylabel('Índice de refracción')\n",
    "plt.grid()\n",
    "plt.show()"
   ]
  },
  {
   "cell_type": "code",
   "execution_count": 19,
   "metadata": {},
   "outputs": [
    {
     "data": {
      "image/png": "[encoded data removed]",
      "text/plain": [
       "<Figure size 432x288 with 1 Axes>"
      ]
     },
     "metadata": {
      "needs_background": "light"
     },
     "output_type": "display_data"
    }
   ],
   "source": [
    "#Graficar una varible con otra\n",
    "plt.scatter(data.K,data.Ca)\n",
    "plt.xlabel('K'),plt.ylabel('Ca')\n",
    "plt.grid()\n",
    "plt.show()"
   ]
  },
  {
   "cell_type": "code",
   "execution_count": 20,
   "metadata": {},
   "outputs": [
    {
     "data": {
      "text/plain": [
       "<seaborn.axisgrid.FacetGrid at 0x1c566232580>"
      ]
     },
     "execution_count": 20,
     "metadata": {},
     "output_type": "execute_result"
    },
    {
     "data": {
      "image/png": "[encoded data removed]",
      "text/plain": [
       "<Figure size 422.75x360 with 1 Axes>"
      ]
     },
     "metadata": {
      "needs_background": "light"
     },
     "output_type": "display_data"
    }
   ],
   "source": [
    "#Graficar una varible con otra y colorear por tipo de vidrio\n",
    "sns.lmplot(x='K', y='Ca', data=data, hue='Tipo_Vidrio', fit_reg=False)"
   ]
  },
  {
   "cell_type": "markdown",
   "metadata": {},
   "source": [
    "### Centrado y Escalamiento\n",
    "*¿Qué es?*: Es poner valores en el mismo rango o escala para que ninguna variable sea dominada por otra\n",
    "\n",
    "*¿Porqué sirve?*: La mayoría de las veces, los datos tienen variables que varían mucho en magnitudes, unidades y rango. Pero dado que la mayoría de los algoritmos de aprendizaje automático utilizan la distancia euclidiana entre dos puntos de datos en sus cálculos, esto es un problema.\n",
    "\n",
    "Las variables con magnitudes altas pesarán mucho más en los cálculos de distancia que las variables con magnitudes bajas. Para que esto no afecte tanto, debemos llevar todas las variables al mismo nivel de magnitudes. Esto se puede lograr escalando.\n",
    "<br>\n",
    "\n",
    "Algunos algoritmos donde el escalamiento importa:\n",
    "- KNN: con la ditancia Euclidiana es sensible a magnitudes\n",
    "- PCA: este busca traer características con máxima varianza y la varianza es grande para variables con grandes magnitudes. Esto sesga el PCA a variables con grandes magnitudes \n",
    "- Gradiente Descendiente: se puede acelerar escalando. Ya que $\\theta$ desciende más rápido en rangos pequeños y eso hace que oscile menos ya que los brincos son más parejos\n",
    "\n",
    " <br>\n",
    " \n",
    "<img style=\"float: center; margin: 0px 0px 15px 15px;\" src=\"https://miro.medium.com/max/2000/1*yR54MSI1jjnf2QeGtt57PA.png\" width=\"350px\" height=\"180px\" />\n",
    "<br>\n",
    "Observando los datos originales, vemos que cada variable tiene diferentes escalas."
   ]
  },
  {
   "cell_type": "code",
   "execution_count": 21,
   "metadata": {},
   "outputs": [
    {
     "data": {
      "text/html": [
       "<div>\n",
       "<style scoped>\n",
       "    .dataframe tbody tr th:only-of-type {\n",
       "        vertical-align: middle;\n",
       "    }\n",
       "\n",
       "    .dataframe tbody tr th {\n",
       "        vertical-align: top;\n",
       "    }\n",
       "\n",
       "    .dataframe thead th {\n",
       "        text-align: right;\n",
       "    }\n",
       "</style>\n",
       "<table border=\"1\" class=\"dataframe\">\n",
       "  <thead>\n",
       "    <tr style=\"text-align: right;\">\n",
       "      <th></th>\n",
       "      <th>ID</th>\n",
       "      <th>Indice_Refraccion</th>\n",
       "      <th>Na</th>\n",
       "      <th>Mg</th>\n",
       "      <th>Al</th>\n",
       "      <th>Si</th>\n",
       "      <th>K</th>\n",
       "      <th>Ca</th>\n",
       "      <th>Ba</th>\n",
       "      <th>Fe</th>\n",
       "      <th>Tipo_Vidrio</th>\n",
       "    </tr>\n",
       "  </thead>\n",
       "  <tbody>\n",
       "    <tr>\n",
       "      <th>0</th>\n",
       "      <td>1</td>\n",
       "      <td>1.52101</td>\n",
       "      <td>13.64</td>\n",
       "      <td>4.49</td>\n",
       "      <td>1.10</td>\n",
       "      <td>71.78</td>\n",
       "      <td>0.06</td>\n",
       "      <td>8.75</td>\n",
       "      <td>0.0</td>\n",
       "      <td>0.00</td>\n",
       "      <td>1</td>\n",
       "    </tr>\n",
       "    <tr>\n",
       "      <th>1</th>\n",
       "      <td>2</td>\n",
       "      <td>1.51761</td>\n",
       "      <td>13.89</td>\n",
       "      <td>3.60</td>\n",
       "      <td>1.36</td>\n",
       "      <td>72.73</td>\n",
       "      <td>0.48</td>\n",
       "      <td>7.83</td>\n",
       "      <td>0.0</td>\n",
       "      <td>0.00</td>\n",
       "      <td>1</td>\n",
       "    </tr>\n",
       "    <tr>\n",
       "      <th>2</th>\n",
       "      <td>3</td>\n",
       "      <td>1.51618</td>\n",
       "      <td>13.53</td>\n",
       "      <td>3.55</td>\n",
       "      <td>1.54</td>\n",
       "      <td>72.99</td>\n",
       "      <td>0.39</td>\n",
       "      <td>7.78</td>\n",
       "      <td>0.0</td>\n",
       "      <td>0.00</td>\n",
       "      <td>1</td>\n",
       "    </tr>\n",
       "    <tr>\n",
       "      <th>3</th>\n",
       "      <td>4</td>\n",
       "      <td>1.51766</td>\n",
       "      <td>13.21</td>\n",
       "      <td>3.69</td>\n",
       "      <td>1.29</td>\n",
       "      <td>72.61</td>\n",
       "      <td>0.57</td>\n",
       "      <td>8.22</td>\n",
       "      <td>0.0</td>\n",
       "      <td>0.00</td>\n",
       "      <td>1</td>\n",
       "    </tr>\n",
       "    <tr>\n",
       "      <th>4</th>\n",
       "      <td>5</td>\n",
       "      <td>1.51742</td>\n",
       "      <td>13.27</td>\n",
       "      <td>3.62</td>\n",
       "      <td>1.24</td>\n",
       "      <td>73.08</td>\n",
       "      <td>0.55</td>\n",
       "      <td>8.07</td>\n",
       "      <td>0.0</td>\n",
       "      <td>0.00</td>\n",
       "      <td>1</td>\n",
       "    </tr>\n",
       "    <tr>\n",
       "      <th>5</th>\n",
       "      <td>6</td>\n",
       "      <td>1.51596</td>\n",
       "      <td>12.79</td>\n",
       "      <td>3.61</td>\n",
       "      <td>1.62</td>\n",
       "      <td>72.97</td>\n",
       "      <td>0.64</td>\n",
       "      <td>8.07</td>\n",
       "      <td>0.0</td>\n",
       "      <td>0.26</td>\n",
       "      <td>1</td>\n",
       "    </tr>\n",
       "    <tr>\n",
       "      <th>6</th>\n",
       "      <td>7</td>\n",
       "      <td>1.51743</td>\n",
       "      <td>13.30</td>\n",
       "      <td>3.60</td>\n",
       "      <td>1.14</td>\n",
       "      <td>73.09</td>\n",
       "      <td>0.58</td>\n",
       "      <td>8.17</td>\n",
       "      <td>0.0</td>\n",
       "      <td>0.00</td>\n",
       "      <td>1</td>\n",
       "    </tr>\n",
       "    <tr>\n",
       "      <th>7</th>\n",
       "      <td>8</td>\n",
       "      <td>1.51756</td>\n",
       "      <td>13.15</td>\n",
       "      <td>3.61</td>\n",
       "      <td>1.05</td>\n",
       "      <td>73.24</td>\n",
       "      <td>0.57</td>\n",
       "      <td>8.24</td>\n",
       "      <td>0.0</td>\n",
       "      <td>0.00</td>\n",
       "      <td>1</td>\n",
       "    </tr>\n",
       "    <tr>\n",
       "      <th>8</th>\n",
       "      <td>9</td>\n",
       "      <td>1.51918</td>\n",
       "      <td>14.04</td>\n",
       "      <td>3.58</td>\n",
       "      <td>1.37</td>\n",
       "      <td>72.08</td>\n",
       "      <td>0.56</td>\n",
       "      <td>8.30</td>\n",
       "      <td>0.0</td>\n",
       "      <td>0.00</td>\n",
       "      <td>1</td>\n",
       "    </tr>\n",
       "    <tr>\n",
       "      <th>9</th>\n",
       "      <td>10</td>\n",
       "      <td>1.51755</td>\n",
       "      <td>13.00</td>\n",
       "      <td>3.60</td>\n",
       "      <td>1.36</td>\n",
       "      <td>72.99</td>\n",
       "      <td>0.57</td>\n",
       "      <td>8.40</td>\n",
       "      <td>0.0</td>\n",
       "      <td>0.11</td>\n",
       "      <td>1</td>\n",
       "    </tr>\n",
       "  </tbody>\n",
       "</table>\n",
       "</div>"
      ],
      "text/plain": [
       "   ID  Indice_Refraccion     Na    Mg    Al     Si     K    Ca   Ba    Fe  \\\n",
       "0   1            1.52101  13.64  4.49  1.10  71.78  0.06  8.75  0.0  0.00   \n",
       "1   2            1.51761  13.89  3.60  1.36  72.73  0.48  7.83  0.0  0.00   \n",
       "2   3            1.51618  13.53  3.55  1.54  72.99  0.39  7.78  0.0  0.00   \n",
       "3   4            1.51766  13.21  3.69  1.29  72.61  0.57  8.22  0.0  0.00   \n",
       "4   5            1.51742  13.27  3.62  1.24  73.08  0.55  8.07  0.0  0.00   \n",
       "5   6            1.51596  12.79  3.61  1.62  72.97  0.64  8.07  0.0  0.26   \n",
       "6   7            1.51743  13.30  3.60  1.14  73.09  0.58  8.17  0.0  0.00   \n",
       "7   8            1.51756  13.15  3.61  1.05  73.24  0.57  8.24  0.0  0.00   \n",
       "8   9            1.51918  14.04  3.58  1.37  72.08  0.56  8.30  0.0  0.00   \n",
       "9  10            1.51755  13.00  3.60  1.36  72.99  0.57  8.40  0.0  0.11   \n",
       "\n",
       "   Tipo_Vidrio  \n",
       "0            1  \n",
       "1            1  \n",
       "2            1  \n",
       "3            1  \n",
       "4            1  \n",
       "5            1  \n",
       "6            1  \n",
       "7            1  \n",
       "8            1  \n",
       "9            1  "
      ]
     },
     "execution_count": 21,
     "metadata": {},
     "output_type": "execute_result"
    }
   ],
   "source": [
    "#Datos originales\n",
    "data.head(10)"
   ]
  },
  {
   "cell_type": "markdown",
   "metadata": {},
   "source": [
    "**Escalar datos**\n",
    "\n",
    "*Estandarización*\n",
    "\n",
    "La ecuación para estandarizar datos (MinMaxScaler):\n",
    "\n",
    "$$X\\prime = \\frac{X-X_{min}}{X_{max}-X_{min}}$$\n",
    "\n",
    "Los valores quedan entre un rango específico como \\[0,1\\]. Trata de hacer que los valores sean cercanos a su media\n"
   ]
  },
  {
   "cell_type": "code",
   "execution_count": 22,
   "metadata": {},
   "outputs": [
    {
     "data": {
      "text/plain": [
       "0      0.432836\n",
       "1      0.283582\n",
       "2      0.220808\n",
       "3      0.285777\n",
       "4      0.275241\n",
       "         ...   \n",
       "209    0.223003\n",
       "210    0.250219\n",
       "211    0.417032\n",
       "212    0.235294\n",
       "213    0.261633\n",
       "Name: Indice_Refraccion, Length: 214, dtype: float64"
      ]
     },
     "execution_count": 22,
     "metadata": {},
     "output_type": "execute_result"
    }
   ],
   "source": [
    "# a mano para Indice de Refracción\n",
    "(data.Indice_Refraccion - data.Indice_Refraccion.min()) / (data.Indice_Refraccion.max() - data.Indice_Refraccion.min())"
   ]
  },
  {
   "cell_type": "code",
   "execution_count": 23,
   "metadata": {},
   "outputs": [
    {
     "data": {
      "text/html": [
       "<div>\n",
       "<style scoped>\n",
       "    .dataframe tbody tr th:only-of-type {\n",
       "        vertical-align: middle;\n",
       "    }\n",
       "\n",
       "    .dataframe tbody tr th {\n",
       "        vertical-align: top;\n",
       "    }\n",
       "\n",
       "    .dataframe thead th {\n",
       "        text-align: right;\n",
       "    }\n",
       "</style>\n",
       "<table border=\"1\" class=\"dataframe\">\n",
       "  <thead>\n",
       "    <tr style=\"text-align: right;\">\n",
       "      <th></th>\n",
       "      <th>Indice_Refraccion</th>\n",
       "      <th>Na</th>\n",
       "      <th>Mg</th>\n",
       "      <th>Al</th>\n",
       "      <th>Si</th>\n",
       "      <th>K</th>\n",
       "      <th>Ca</th>\n",
       "      <th>Ba</th>\n",
       "      <th>Fe</th>\n",
       "      <th>Tipo_Vidrio</th>\n",
       "    </tr>\n",
       "  </thead>\n",
       "  <tbody>\n",
       "    <tr>\n",
       "      <th>0</th>\n",
       "      <td>0.432836</td>\n",
       "      <td>0.437594</td>\n",
       "      <td>1.000000</td>\n",
       "      <td>0.252336</td>\n",
       "      <td>0.351786</td>\n",
       "      <td>0.009662</td>\n",
       "      <td>0.308550</td>\n",
       "      <td>0.0</td>\n",
       "      <td>0.0</td>\n",
       "      <td>0.0</td>\n",
       "    </tr>\n",
       "    <tr>\n",
       "      <th>1</th>\n",
       "      <td>0.283582</td>\n",
       "      <td>0.475188</td>\n",
       "      <td>0.801782</td>\n",
       "      <td>0.333333</td>\n",
       "      <td>0.521429</td>\n",
       "      <td>0.077295</td>\n",
       "      <td>0.223048</td>\n",
       "      <td>0.0</td>\n",
       "      <td>0.0</td>\n",
       "      <td>0.0</td>\n",
       "    </tr>\n",
       "    <tr>\n",
       "      <th>2</th>\n",
       "      <td>0.220808</td>\n",
       "      <td>0.421053</td>\n",
       "      <td>0.790646</td>\n",
       "      <td>0.389408</td>\n",
       "      <td>0.567857</td>\n",
       "      <td>0.062802</td>\n",
       "      <td>0.218401</td>\n",
       "      <td>0.0</td>\n",
       "      <td>0.0</td>\n",
       "      <td>0.0</td>\n",
       "    </tr>\n",
       "    <tr>\n",
       "      <th>3</th>\n",
       "      <td>0.285777</td>\n",
       "      <td>0.372932</td>\n",
       "      <td>0.821826</td>\n",
       "      <td>0.311526</td>\n",
       "      <td>0.500000</td>\n",
       "      <td>0.091787</td>\n",
       "      <td>0.259294</td>\n",
       "      <td>0.0</td>\n",
       "      <td>0.0</td>\n",
       "      <td>0.0</td>\n",
       "    </tr>\n",
       "    <tr>\n",
       "      <th>4</th>\n",
       "      <td>0.275241</td>\n",
       "      <td>0.381955</td>\n",
       "      <td>0.806236</td>\n",
       "      <td>0.295950</td>\n",
       "      <td>0.583929</td>\n",
       "      <td>0.088567</td>\n",
       "      <td>0.245353</td>\n",
       "      <td>0.0</td>\n",
       "      <td>0.0</td>\n",
       "      <td>0.0</td>\n",
       "    </tr>\n",
       "  </tbody>\n",
       "</table>\n",
       "</div>"
      ],
      "text/plain": [
       "   Indice_Refraccion        Na        Mg        Al        Si         K  \\\n",
       "0           0.432836  0.437594  1.000000  0.252336  0.351786  0.009662   \n",
       "1           0.283582  0.475188  0.801782  0.333333  0.521429  0.077295   \n",
       "2           0.220808  0.421053  0.790646  0.389408  0.567857  0.062802   \n",
       "3           0.285777  0.372932  0.821826  0.311526  0.500000  0.091787   \n",
       "4           0.275241  0.381955  0.806236  0.295950  0.583929  0.088567   \n",
       "\n",
       "         Ca   Ba   Fe  Tipo_Vidrio  \n",
       "0  0.308550  0.0  0.0          0.0  \n",
       "1  0.223048  0.0  0.0          0.0  \n",
       "2  0.218401  0.0  0.0          0.0  \n",
       "3  0.259294  0.0  0.0          0.0  \n",
       "4  0.245353  0.0  0.0          0.0  "
      ]
     },
     "execution_count": 23,
     "metadata": {},
     "output_type": "execute_result"
    }
   ],
   "source": [
    "#con librería\n",
    "scaler = preprocessing.MinMaxScaler()\n",
    "names = data.columns[1:11]\n",
    "scaler_1 = scaler.fit_transform(data.iloc[:,1:11])\n",
    "scaled_df = pd.DataFrame(scaler_1, columns=names)\n",
    "scaled_df.head()"
   ]
  },
  {
   "cell_type": "code",
   "execution_count": 24,
   "metadata": {},
   "outputs": [
    {
     "data": {
      "text/plain": [
       "<seaborn.axisgrid.FacetGrid at 0x1c566348730>"
      ]
     },
     "execution_count": 24,
     "metadata": {},
     "output_type": "execute_result"
    },
    {
     "data": {
      "image/png": "[encoded data removed]",
      "text/plain": [
       "<Figure size 514x360 with 1 Axes>"
      ]
     },
     "metadata": {
      "needs_background": "light"
     },
     "output_type": "display_data"
    }
   ],
   "source": [
    "#Graficar nuevas variables\n",
    "sns.lmplot(x='K', y='Ca', data=scaled_df, hue='Tipo_Vidrio', fit_reg=False)"
   ]
  },
  {
   "cell_type": "code",
   "execution_count": 25,
   "metadata": {},
   "outputs": [
    {
     "name": "stderr",
     "output_type": "stream",
     "text": [
      "C:\\Users\\galle\\anaconda3\\lib\\site-packages\\seaborn\\distributions.py:2619: FutureWarning: `distplot` is a deprecated function and will be removed in a future version. Please adapt your code to use either `displot` (a figure-level function with similar flexibility) or `histplot` (an axes-level function for histograms).\n",
      "  warnings.warn(msg, FutureWarning)\n",
      "C:\\Users\\galle\\anaconda3\\lib\\site-packages\\seaborn\\distributions.py:2619: FutureWarning: `distplot` is a deprecated function and will be removed in a future version. Please adapt your code to use either `displot` (a figure-level function with similar flexibility) or `histplot` (an axes-level function for histograms).\n",
      "  warnings.warn(msg, FutureWarning)\n"
     ]
    },
    {
     "data": {
      "image/png": "[encoded data removed]",
      "text/plain": [
       "<Figure size 432x288 with 2 Axes>"
      ]
     },
     "metadata": {
      "needs_background": "light"
     },
     "output_type": "display_data"
    }
   ],
   "source": [
    "# Graficamos variable original (Ca) vs variable escalada por minmax\n",
    "fig, ax=plt.subplots(1,2)\n",
    "sns.distplot(data.Ca, ax=ax[0], color='y')\n",
    "ax[0].set_title(\"Original Data\")\n",
    "sns.distplot(scaled_df.Ca, ax=ax[1])\n",
    "ax[1].set_title(\"Scaled data\")\n",
    "plt.show()\n",
    "#La distribución no cambia"
   ]
  },
  {
   "cell_type": "markdown",
   "metadata": {},
   "source": [
    "*Normalización*\n",
    "\n",
    "La ecuación para escalar las variables por normalización (z-score normalization):\n",
    "\n",
    "$$x\\prime=\\frac{x-\\bar x}{\\sigma}$$\n",
    "\n",
    "Transforma los datos tal que la distribución resultante tiene media de 0 y desviación estándar de 1.\n",
    "Cuando hay datos atípicos que son importantes y no queremos perder su impacto, usamos esta normalización. Aquí sí se obtienen datos negativos"
   ]
  },
  {
   "cell_type": "code",
   "execution_count": 26,
   "metadata": {},
   "outputs": [
    {
     "data": {
      "text/plain": [
       "0      0.870826\n",
       "1     -0.248750\n",
       "2     -0.719631\n",
       "3     -0.232286\n",
       "4     -0.311315\n",
       "         ...   \n",
       "209   -0.703166\n",
       "210   -0.499008\n",
       "211    0.752282\n",
       "212   -0.610966\n",
       "213   -0.413394\n",
       "Name: Indice_Refraccion, Length: 214, dtype: float64"
      ]
     },
     "execution_count": 26,
     "metadata": {},
     "output_type": "execute_result"
    }
   ],
   "source": [
    "#a mano para indice de refracción normalizacion\n",
    "(data.Indice_Refraccion - data.Indice_Refraccion.mean())/(data.Indice_Refraccion.std())"
   ]
  },
  {
   "cell_type": "code",
   "execution_count": 27,
   "metadata": {},
   "outputs": [
    {
     "data": {
      "text/html": [
       "<div>\n",
       "<style scoped>\n",
       "    .dataframe tbody tr th:only-of-type {\n",
       "        vertical-align: middle;\n",
       "    }\n",
       "\n",
       "    .dataframe tbody tr th {\n",
       "        vertical-align: top;\n",
       "    }\n",
       "\n",
       "    .dataframe thead th {\n",
       "        text-align: right;\n",
       "    }\n",
       "</style>\n",
       "<table border=\"1\" class=\"dataframe\">\n",
       "  <thead>\n",
       "    <tr style=\"text-align: right;\">\n",
       "      <th></th>\n",
       "      <th>ID</th>\n",
       "      <th>Indice_Refraccion</th>\n",
       "      <th>Na</th>\n",
       "      <th>Mg</th>\n",
       "      <th>Al</th>\n",
       "      <th>Si</th>\n",
       "      <th>K</th>\n",
       "      <th>Ca</th>\n",
       "      <th>Ba</th>\n",
       "      <th>Fe</th>\n",
       "      <th>Tipo_Vidrio</th>\n",
       "    </tr>\n",
       "  </thead>\n",
       "  <tbody>\n",
       "    <tr>\n",
       "      <th>0</th>\n",
       "      <td>-1.723976</td>\n",
       "      <td>0.872868</td>\n",
       "      <td>0.284953</td>\n",
       "      <td>1.254639</td>\n",
       "      <td>-0.692442</td>\n",
       "      <td>-1.127082</td>\n",
       "      <td>-0.671705</td>\n",
       "      <td>-0.145766</td>\n",
       "      <td>-0.352877</td>\n",
       "      <td>-0.586451</td>\n",
       "      <td>-0.848275</td>\n",
       "    </tr>\n",
       "    <tr>\n",
       "      <th>1</th>\n",
       "      <td>-1.707788</td>\n",
       "      <td>-0.249333</td>\n",
       "      <td>0.591817</td>\n",
       "      <td>0.636168</td>\n",
       "      <td>-0.170460</td>\n",
       "      <td>0.102319</td>\n",
       "      <td>-0.026213</td>\n",
       "      <td>-0.793734</td>\n",
       "      <td>-0.352877</td>\n",
       "      <td>-0.586451</td>\n",
       "      <td>-0.848275</td>\n",
       "    </tr>\n",
       "    <tr>\n",
       "      <th>2</th>\n",
       "      <td>-1.691601</td>\n",
       "      <td>-0.721318</td>\n",
       "      <td>0.149933</td>\n",
       "      <td>0.601422</td>\n",
       "      <td>0.190912</td>\n",
       "      <td>0.438787</td>\n",
       "      <td>-0.164533</td>\n",
       "      <td>-0.828949</td>\n",
       "      <td>-0.352877</td>\n",
       "      <td>-0.586451</td>\n",
       "      <td>-0.848275</td>\n",
       "    </tr>\n",
       "    <tr>\n",
       "      <th>3</th>\n",
       "      <td>-1.675413</td>\n",
       "      <td>-0.232831</td>\n",
       "      <td>-0.242853</td>\n",
       "      <td>0.698710</td>\n",
       "      <td>-0.310994</td>\n",
       "      <td>-0.052974</td>\n",
       "      <td>0.112107</td>\n",
       "      <td>-0.519052</td>\n",
       "      <td>-0.352877</td>\n",
       "      <td>-0.586451</td>\n",
       "      <td>-0.848275</td>\n",
       "    </tr>\n",
       "    <tr>\n",
       "      <th>4</th>\n",
       "      <td>-1.659226</td>\n",
       "      <td>-0.312045</td>\n",
       "      <td>-0.169205</td>\n",
       "      <td>0.650066</td>\n",
       "      <td>-0.411375</td>\n",
       "      <td>0.555256</td>\n",
       "      <td>0.081369</td>\n",
       "      <td>-0.624699</td>\n",
       "      <td>-0.352877</td>\n",
       "      <td>-0.586451</td>\n",
       "      <td>-0.848275</td>\n",
       "    </tr>\n",
       "  </tbody>\n",
       "</table>\n",
       "</div>"
      ],
      "text/plain": [
       "         ID  Indice_Refraccion        Na        Mg        Al        Si  \\\n",
       "0 -1.723976           0.872868  0.284953  1.254639 -0.692442 -1.127082   \n",
       "1 -1.707788          -0.249333  0.591817  0.636168 -0.170460  0.102319   \n",
       "2 -1.691601          -0.721318  0.149933  0.601422  0.190912  0.438787   \n",
       "3 -1.675413          -0.232831 -0.242853  0.698710 -0.310994 -0.052974   \n",
       "4 -1.659226          -0.312045 -0.169205  0.650066 -0.411375  0.555256   \n",
       "\n",
       "          K        Ca        Ba        Fe  Tipo_Vidrio  \n",
       "0 -0.671705 -0.145766 -0.352877 -0.586451    -0.848275  \n",
       "1 -0.026213 -0.793734 -0.352877 -0.586451    -0.848275  \n",
       "2 -0.164533 -0.828949 -0.352877 -0.586451    -0.848275  \n",
       "3  0.112107 -0.519052 -0.352877 -0.586451    -0.848275  \n",
       "4  0.081369 -0.624699 -0.352877 -0.586451    -0.848275  "
      ]
     },
     "execution_count": 27,
     "metadata": {},
     "output_type": "execute_result"
    }
   ],
   "source": [
    "#con librería\n",
    "names = data.columns\n",
    "d = preprocessing.scale(data)\n",
    "standard = pd.DataFrame(d, columns=names)\n",
    "standard.head()\n"
   ]
  },
  {
   "cell_type": "code",
   "execution_count": 28,
   "metadata": {},
   "outputs": [
    {
     "name": "stderr",
     "output_type": "stream",
     "text": [
      "C:\\Users\\galle\\anaconda3\\lib\\site-packages\\seaborn\\distributions.py:2619: FutureWarning: `distplot` is a deprecated function and will be removed in a future version. Please adapt your code to use either `displot` (a figure-level function with similar flexibility) or `histplot` (an axes-level function for histograms).\n",
      "  warnings.warn(msg, FutureWarning)\n",
      "C:\\Users\\galle\\anaconda3\\lib\\site-packages\\seaborn\\distributions.py:2619: FutureWarning: `distplot` is a deprecated function and will be removed in a future version. Please adapt your code to use either `displot` (a figure-level function with similar flexibility) or `histplot` (an axes-level function for histograms).\n",
      "  warnings.warn(msg, FutureWarning)\n"
     ]
    },
    {
     "data": {
      "image/png": "[encoded data removed]",
      "text/plain": [
       "<Figure size 432x288 with 2 Axes>"
      ]
     },
     "metadata": {
      "needs_background": "light"
     },
     "output_type": "display_data"
    }
   ],
   "source": [
    "# Graficamos variable original (Ca) vs variable escalada por z-score\n",
    "fig, ax=plt.subplots(1,2)\n",
    "sns.distplot(data.Ca, ax=ax[0], color='y')\n",
    "ax[0].set_title(\"Original Data\")\n",
    "sns.distplot(standard.Ca, ax=ax[1])\n",
    "ax[1].set_title(\"Scaled data\")\n",
    "plt.show()"
   ]
  },
  {
   "cell_type": "markdown",
   "metadata": {},
   "source": [
    "**Cuál es la diferencia entre estandarizar y normalizar?**\n",
    "\n",
    "Escalar, está cambiando el rango de los datos mientras que en la normalización está cambiando la forma de distribución de los datos."
   ]
  },
  {
   "cell_type": "markdown",
   "metadata": {},
   "source": [
    "### Asimetría en los datos\n",
    "\n",
    "La probabilidad de que los datos aparezcan por arriba de su media no es la misma que para valores por debajo de la media. \n",
    "\n",
    "Si estamos seguros que los datos son correctos, se puede realizar una transformación para evitar la asimetría\n",
    "\n",
    "<img style=\"float: center; margin: 0px 0px 15px 15px;\" src=\"https://miro.medium.com/max/765/1*hxVvqttoCSkUT2_R1zA0Tg.gif\" width=\"450px\" height=\"280px\" />"
   ]
  },
  {
   "cell_type": "code",
   "execution_count": 29,
   "metadata": {},
   "outputs": [
    {
     "data": {
      "image/png": "[encoded data removed]",
      "text/plain": [
       "<Figure size 1440x720 with 12 Axes>"
      ]
     },
     "metadata": {
      "needs_background": "light"
     },
     "output_type": "display_data"
    }
   ],
   "source": [
    "#Histogramas\n",
    "data.hist(bins=30,figsize=(20,10))\n",
    "plt.show()"
   ]
  },
  {
   "cell_type": "markdown",
   "metadata": {},
   "source": [
    "#### Efectos de la asimetría\n",
    "En datos asimétricos, la región de la cola puede actuar como un valor atípico para el modelo estadístico y sabemos que los valores atípicos afectan negativamente el rendimiento del modelo, especialmente los modelos basados en regresión. Hay modelos estadísticos que son robustos a valores atípicos como los modelos basados en árboles, pero limitarán la posibilidad de probar otros modelos. Por lo tanto, es necesario transformar los datos asimétricos para que se acerquen lo suficiente a una distribución gaussiana o distribución normal. Esto nos permitirá probar más modelos estadísticos."
   ]
  },
  {
   "cell_type": "markdown",
   "metadata": {},
   "source": [
    "\n",
    "\n",
    "Fórmula del índice de asimetría estática:\n",
    "$$skewness = \\frac{\\sum_{i=1}^{m}(x_{i}-\\bar x_{i})^{3}}{(m-1)v^{3/2}}, v=\\frac{\\sum_{i=1}^{n}(x_{i}-\\bar x_{i})^{2}}{m-1} $$\n",
    "\n",
    "Podemos determinar el nivel de asimetría de la forma:\n",
    "- Distribución altamente sesgada: si el valor del sesgo es menor a -1 o mayor a +1.\n",
    "- Distrubición moderadamente sesgada: si el valor del sesgo es entre -1 y -0.5 o entre +0.5 y +1\n",
    "- Distribución aproximadamente simétrica: si el valor del sesgo está entre -0.5 y +0.5\n"
   ]
  },
  {
   "cell_type": "code",
   "execution_count": 30,
   "metadata": {},
   "outputs": [
    {
     "data": {
      "text/plain": [
       "ID                   0.000000\n",
       "Indice_Refraccion    1.610240\n",
       "Na                   0.449937\n",
       "Mg                  -1.141788\n",
       "Al                   0.898810\n",
       "Si                  -0.723621\n",
       "K                    6.490418\n",
       "Ca                   2.027923\n",
       "Ba                   3.384495\n",
       "Fe                   1.737932\n",
       "Tipo_Vidrio          1.104495\n",
       "dtype: float64"
      ]
     },
     "execution_count": 30,
     "metadata": {},
     "output_type": "execute_result"
    }
   ],
   "source": [
    "#Sacar a mano la asimetría\n",
    "def skewness(data):\n",
    "    v = np.sum(np.power(data - data.mean(axis=0), 2)) / (data.shape[0] - 1)\n",
    "    skewness = np.sum(np.power(data - data.mean(axis=0), 3)) / ((data.shape[0] - 1) * np.power(v, 3/2))\n",
    "    return skewness\n",
    "\n",
    "skewness(data)"
   ]
  },
  {
   "cell_type": "code",
   "execution_count": 31,
   "metadata": {},
   "outputs": [
    {
     "data": {
      "text/html": [
       "<div>\n",
       "<style scoped>\n",
       "    .dataframe tbody tr th:only-of-type {\n",
       "        vertical-align: middle;\n",
       "    }\n",
       "\n",
       "    .dataframe tbody tr th {\n",
       "        vertical-align: top;\n",
       "    }\n",
       "\n",
       "    .dataframe thead th {\n",
       "        text-align: right;\n",
       "    }\n",
       "</style>\n",
       "<table border=\"1\" class=\"dataframe\">\n",
       "  <thead>\n",
       "    <tr style=\"text-align: right;\">\n",
       "      <th></th>\n",
       "      <th>value</th>\n",
       "      <th>skewness</th>\n",
       "    </tr>\n",
       "  </thead>\n",
       "  <tbody>\n",
       "    <tr>\n",
       "      <th>ID</th>\n",
       "      <td>0.00</td>\n",
       "      <td>Symmetric distribution</td>\n",
       "    </tr>\n",
       "    <tr>\n",
       "      <th>Indice_Refraccion</th>\n",
       "      <td>1.63</td>\n",
       "      <td>Highly Skewed</td>\n",
       "    </tr>\n",
       "    <tr>\n",
       "      <th>Na</th>\n",
       "      <td>0.45</td>\n",
       "      <td>Symmetric distribution</td>\n",
       "    </tr>\n",
       "    <tr>\n",
       "      <th>Mg</th>\n",
       "      <td>-1.15</td>\n",
       "      <td>Highly Skewed</td>\n",
       "    </tr>\n",
       "    <tr>\n",
       "      <th>Al</th>\n",
       "      <td>0.91</td>\n",
       "      <td>Moderately skewed</td>\n",
       "    </tr>\n",
       "    <tr>\n",
       "      <th>Si</th>\n",
       "      <td>-0.73</td>\n",
       "      <td>Moderately skewed</td>\n",
       "    </tr>\n",
       "    <tr>\n",
       "      <th>K</th>\n",
       "      <td>6.55</td>\n",
       "      <td>Highly Skewed</td>\n",
       "    </tr>\n",
       "    <tr>\n",
       "      <th>Ca</th>\n",
       "      <td>2.05</td>\n",
       "      <td>Highly Skewed</td>\n",
       "    </tr>\n",
       "    <tr>\n",
       "      <th>Ba</th>\n",
       "      <td>3.42</td>\n",
       "      <td>Highly Skewed</td>\n",
       "    </tr>\n",
       "    <tr>\n",
       "      <th>Fe</th>\n",
       "      <td>1.75</td>\n",
       "      <td>Highly Skewed</td>\n",
       "    </tr>\n",
       "    <tr>\n",
       "      <th>Tipo_Vidrio</th>\n",
       "      <td>1.11</td>\n",
       "      <td>Highly Skewed</td>\n",
       "    </tr>\n",
       "  </tbody>\n",
       "</table>\n",
       "</div>"
      ],
      "text/plain": [
       "                   value                skewness\n",
       "ID                  0.00  Symmetric distribution\n",
       "Indice_Refraccion   1.63           Highly Skewed\n",
       "Na                  0.45  Symmetric distribution\n",
       "Mg                 -1.15           Highly Skewed\n",
       "Al                  0.91       Moderately skewed\n",
       "Si                 -0.73       Moderately skewed\n",
       "K                   6.55           Highly Skewed\n",
       "Ca                  2.05           Highly Skewed\n",
       "Ba                  3.42           Highly Skewed\n",
       "Fe                  1.75           Highly Skewed\n",
       "Tipo_Vidrio         1.11           Highly Skewed"
      ]
     },
     "execution_count": 31,
     "metadata": {},
     "output_type": "execute_result"
    }
   ],
   "source": [
    "# Calculo de la asimetria con pandas\n",
    "skewness = round(data.skew(),2)\n",
    "skewness = skewness.to_frame()\n",
    "skewness = skewness.rename(columns={0: \"value\"}) \n",
    "\n",
    "def f(x):\n",
    "    if x['value'] < -1 or x['value'] > 1: return 'Highly Skewed'\n",
    "    elif (x['value']<=0 and x['value']>=-0.5) or (x['value'] >=0 and x['value']<=0.5):\n",
    "        return 'Symmetric distribution'\n",
    "    else: return 'Moderately skewed'\n",
    "    \n",
    "skewness['skewness'] = skewness.apply(f, axis=1)\n",
    "\n",
    "skewness"
   ]
  },
  {
   "cell_type": "markdown",
   "metadata": {},
   "source": [
    "##### ¿Cómo mitigar la asimetría?\n",
    "\n",
    "_Box Cox_: Una transformación de Box Cox es una transformación de variables no normales en una forma normal. (Lambda entre -5 y 5). Aplicada a valores positivos. \n",
    "\n",
    "$$y(\\lambda)=\n",
    "    \\begin{cases}\n",
    "      \\frac{(y)^{\\lambda}-1}{\\lambda} & \\text{if $\\lambda\\neq0$}\\\\\n",
    "      \\log(y) & \\text{if $\\lambda=0$ }\\\\\n",
    "     \\end{cases}$$\n",
    "\n",
    "\n",
    "**Datos con sesgo positivo**\n",
    "\n",
    "_Transformación de raíz cúbica:_ Es una transformación bastante fuerte con un efecto sustancial en la forma de la distribución, pero es más débil que el logaritmo. También se puede aplicar a valores negativos y cero.\n",
    "$$x_{i}^{*}=(x_{i})^{1/3}$$\n",
    "\n",
    "_Transformación de raíz cuadrada:_ Aplicado solo a valores positivos. \n",
    "$$x_{i}^{*}=\\sqrt(x_{i})$$\n",
    "\n",
    "_Transformación logarítmica:_ Es una transformación fuerte que puede ser usada para reducir el sesgo positivo. Aplicado solo a valores positivos\n",
    "$$x_{i}^{*}=\\log(x_{i})$$\n",
    "\n",
    "**Datos con sesgo negativo**\n",
    "\n",
    "Las transformaciones comunes incluyen elevar al cuadrado, raíz cúbica y logarítmica.\n",
    "\n",
    "_Transformación al cuadrado:_ Tiene un efecto moderado en la forma de la distribución y podría usarse para reducir el sesgo hacia la izquierda.\n",
    "$$x_{i}^{*}=(x_{i})^{2}$$\n",
    "\n",
    "\n",
    "Otro método para manejar la asimetría es encontrar valores atípicos y posiblemente eliminarlos.\n"
   ]
  },
  {
   "cell_type": "code",
   "execution_count": 32,
   "metadata": {},
   "outputs": [],
   "source": [
    "# Varias transformaciones\n",
    "data1=data.copy()\n",
    "#Logarítmica\n",
    "data1['Indice_Refraccion_no_skewness'] = np.log(data1.Indice_Refraccion)\n",
    "#Elevar al cuadrado\n",
    "data1['Indice_Refraccion_no_skewness'] = np.sqrt(data1.Indice_Refraccion)\n",
    "\n",
    "## Transformacion BoxCox usando scipy\n",
    "from scipy import stats\n",
    "data1['Indice_Refraccion_no_skewness'] = stats.boxcox(data1.Indice_Refraccion,lmbda=-5)"
   ]
  },
  {
   "cell_type": "code",
   "execution_count": 33,
   "metadata": {},
   "outputs": [
    {
     "data": {
      "image/png": "[encoded data removed]",
      "text/plain": [
       "<Figure size 432x288 with 2 Axes>"
      ]
     },
     "metadata": {
      "needs_background": "light"
     },
     "output_type": "display_data"
    }
   ],
   "source": [
    "#Comparación de datos sesgados y transformados\n",
    "fig = plt.figure()\n",
    "plt.subplot(1,2,1)\n",
    "plt.hist(data1.Indice_Refraccion)\n",
    "plt.xlabel('Indice_Refraccion'),plt.ylabel('Frecuencia')\n",
    "plt.subplot(1,2,2)\n",
    "plt.hist(data1.Indice_Refraccion_no_skewness)\n",
    "plt.xlabel('Indice_Refraccion_no_skewness'),plt.ylabel('Frecuencia')\n",
    "fig.tight_layout()\n",
    "plt.show()\n"
   ]
  },
  {
   "cell_type": "code",
   "execution_count": 34,
   "metadata": {},
   "outputs": [],
   "source": [
    "#Sesgo para el índice de refracción transformado\n"
   ]
  },
  {
   "cell_type": "markdown",
   "metadata": {},
   "source": [
    "### Valores Atípicos\n",
    "\n",
    "Un dato se considera atípico si aparece por fuera de un rango que se considera válido o\n",
    "aceptable para el fenómeno que se analiza.\n",
    "\n",
    "Para determinar si los datos tienen valores atípicos es posible usar gráficas de bigotes en los\n",
    "datos.\n",
    "\n",
    "Para cuantificar el rango aceptable o permitido para encontrar datos atípicos se utiliza el\n",
    "parámetro IQR (inter quantilerange).\n",
    "\n",
    "$$IQR=75^{th}quantile - 25^{th}quantile$$\n",
    "$$upper_{boundary}=75^{th}quantile+(\\alpha*IQR)$$\n",
    "$$lower_{boundary}=25^{th}quantile-(\\alpha*IQR)$$\n",
    "\n",
    "donde $\\alpha$=1.5, y está relacionado a la probabilidad de ocurrencia si los datos tuvieran una distribución normal."
   ]
  },
  {
   "cell_type": "code",
   "execution_count": 35,
   "metadata": {},
   "outputs": [
    {
     "data": {
      "image/png": "[encoded data removed]",
      "text/plain": [
       "<Figure size 432x288 with 1 Axes>"
      ]
     },
     "metadata": {
      "needs_background": "light"
     },
     "output_type": "display_data"
    }
   ],
   "source": [
    "#Boxplot de varias las variables\n",
    "ax = sns.boxplot(data=data.iloc[:,6:9], orient=\"h\", palette=\"Set2\")\n"
   ]
  },
  {
   "cell_type": "code",
   "execution_count": 36,
   "metadata": {},
   "outputs": [
    {
     "data": {
      "text/plain": [
       "<AxesSubplot:ylabel='Indice_Refraccion'>"
      ]
     },
     "execution_count": 36,
     "metadata": {},
     "output_type": "execute_result"
    },
    {
     "data": {
      "image/png": "[encoded data removed]",
      "text/plain": [
       "<Figure size 432x288 with 1 Axes>"
      ]
     },
     "metadata": {
      "needs_background": "light"
     },
     "output_type": "display_data"
    }
   ],
   "source": [
    "# Un boxplot no se ve afectado por el escalamiento\n",
    "#Datos sin transformar\n",
    "sns.boxplot(y=data['Indice_Refraccion'])"
   ]
  },
  {
   "cell_type": "code",
   "execution_count": 37,
   "metadata": {},
   "outputs": [
    {
     "data": {
      "text/plain": [
       "<AxesSubplot:ylabel='Indice_Refraccion'>"
      ]
     },
     "execution_count": 37,
     "metadata": {},
     "output_type": "execute_result"
    },
    {
     "data": {
      "image/png": "[encoded data removed]",
      "text/plain": [
       "<Figure size 432x288 with 1 Axes>"
      ]
     },
     "metadata": {
      "needs_background": "light"
     },
     "output_type": "display_data"
    }
   ],
   "source": [
    "#Datos escalados\n",
    "sns.boxplot(y=standard['Indice_Refraccion'])"
   ]
  },
  {
   "cell_type": "code",
   "execution_count": 38,
   "metadata": {},
   "outputs": [
    {
     "data": {
      "text/plain": [
       "47     1.52667\n",
       "50     1.52320\n",
       "56     1.51215\n",
       "103    1.52725\n",
       "104    1.52410\n",
       "Name: Indice_Refraccion, dtype: float64"
      ]
     },
     "execution_count": 38,
     "metadata": {},
     "output_type": "execute_result"
    }
   ],
   "source": [
    "#Funcion para determinar outliers\n",
    "def find_boundaries(df_var,distance=1.5):\n",
    "    IQR = df_var.quantile(0.75)-df_var.quantile(0.25)\n",
    "    lower = df_var.quantile(0.25)-IQR*distance\n",
    "    upper = df_var.quantile(0.75)+IQR*distance\n",
    "    return lower,upper\n",
    "\n",
    "lmin,lmax = find_boundaries(data['Indice_Refraccion'])\n",
    "outliers = np.where(data['Indice_Refraccion'] > lmax, True,np.where(data['Indice_Refraccion'] < lmin, True, False))\n",
    "outliers_df = data.loc[outliers, 'Indice_Refraccion']\n",
    "outliers_df.head()"
   ]
  },
  {
   "cell_type": "markdown",
   "metadata": {},
   "source": [
    "#### Tranformación de datos atípicos\n",
    "Si los datos atípicos son importantes y no es posible descartarlos, entonces \n",
    "es posible hacer una transformación de los datos para que se encuentren en un espacio con escalas similares.\n",
    "\n",
    "Una transformación que se puede hacer es utilizar una función que mitigue la asimetría. "
   ]
  },
  {
   "cell_type": "markdown",
   "metadata": {},
   "source": [
    "**¿Escalar o quitar datos atípicos primero?**\n",
    "\n",
    "Depende.... pero se recomienda primero quitar los outliers y luego escalar los datos. "
   ]
  },
  {
   "cell_type": "markdown",
   "metadata": {},
   "source": [
    "### Datos Nulos\n",
    "\n",
    "Un dato nulo se refiere a la ausencia de un valor o valores en al menos una de las variables.\n",
    "El origen de estos valores pueden ser distintos (errores de captura, censura, funcionamiento del fenómeno, etc.), pero hay que tratar de identificarlas para poder realizar el tratamiento correcto.\n",
    "\n",
    "Si los datos no pueden ser eliminados y es necesario sustituirlos para poder procesarlos con algoritmos sensibles a la falta de datos.\n",
    "Dentro de los criterios comúnmente usados para sustituir los valores nulos se encuentran.\n",
    "\n",
    "◦ Sustitución por una constante\n",
    "\n",
    "◦ Sustitución por una etiqueta\n",
    "\n",
    "◦ Sustitución por la media\n",
    "\n",
    "◦ Sustitución por la mediana\n",
    "\n",
    "◦ Sustitución por el más frecuente"
   ]
  },
  {
   "cell_type": "code",
   "execution_count": 39,
   "metadata": {},
   "outputs": [],
   "source": [
    "#Insertar datos nulos (10%)\n",
    "data_nulos = data.mask(np.random.random(data.shape) < .1)"
   ]
  },
  {
   "cell_type": "code",
   "execution_count": 40,
   "metadata": {},
   "outputs": [
    {
     "data": {
      "text/html": [
       "<div>\n",
       "<style scoped>\n",
       "    .dataframe tbody tr th:only-of-type {\n",
       "        vertical-align: middle;\n",
       "    }\n",
       "\n",
       "    .dataframe tbody tr th {\n",
       "        vertical-align: top;\n",
       "    }\n",
       "\n",
       "    .dataframe thead th {\n",
       "        text-align: right;\n",
       "    }\n",
       "</style>\n",
       "<table border=\"1\" class=\"dataframe\">\n",
       "  <thead>\n",
       "    <tr style=\"text-align: right;\">\n",
       "      <th></th>\n",
       "      <th>Valores_Nulos</th>\n",
       "    </tr>\n",
       "  </thead>\n",
       "  <tbody>\n",
       "    <tr>\n",
       "      <th>ID</th>\n",
       "      <td>19</td>\n",
       "    </tr>\n",
       "    <tr>\n",
       "      <th>Indice_Refraccion</th>\n",
       "      <td>28</td>\n",
       "    </tr>\n",
       "    <tr>\n",
       "      <th>Na</th>\n",
       "      <td>23</td>\n",
       "    </tr>\n",
       "    <tr>\n",
       "      <th>Mg</th>\n",
       "      <td>28</td>\n",
       "    </tr>\n",
       "    <tr>\n",
       "      <th>Al</th>\n",
       "      <td>29</td>\n",
       "    </tr>\n",
       "    <tr>\n",
       "      <th>Si</th>\n",
       "      <td>24</td>\n",
       "    </tr>\n",
       "    <tr>\n",
       "      <th>K</th>\n",
       "      <td>20</td>\n",
       "    </tr>\n",
       "    <tr>\n",
       "      <th>Ca</th>\n",
       "      <td>18</td>\n",
       "    </tr>\n",
       "    <tr>\n",
       "      <th>Ba</th>\n",
       "      <td>15</td>\n",
       "    </tr>\n",
       "    <tr>\n",
       "      <th>Fe</th>\n",
       "      <td>24</td>\n",
       "    </tr>\n",
       "    <tr>\n",
       "      <th>Tipo_Vidrio</th>\n",
       "      <td>28</td>\n",
       "    </tr>\n",
       "  </tbody>\n",
       "</table>\n",
       "</div>"
      ],
      "text/plain": [
       "                   Valores_Nulos\n",
       "ID                            19\n",
       "Indice_Refraccion             28\n",
       "Na                            23\n",
       "Mg                            28\n",
       "Al                            29\n",
       "Si                            24\n",
       "K                             20\n",
       "Ca                            18\n",
       "Ba                            15\n",
       "Fe                            24\n",
       "Tipo_Vidrio                   28"
      ]
     },
     "execution_count": 40,
     "metadata": {},
     "output_type": "execute_result"
    }
   ],
   "source": [
    "#Contar datos nulos en nuevo dataset\n",
    "pd.DataFrame(data_nulos.isnull().sum(), columns=['Valores_Nulos'])"
   ]
  },
  {
   "cell_type": "code",
   "execution_count": 41,
   "metadata": {},
   "outputs": [],
   "source": [
    "#Imputar datos nulos\n",
    "from sklearn.impute import SimpleImputer\n",
    "imputer = SimpleImputer(strategy='constant', fill_value=99)\n",
    "imputer = SimpleImputer(strategy='constant', fill_value='Missing')\n",
    "imputer = SimpleImputer(strategy='mean')\n",
    "imputer = SimpleImputer(strategy='median')\n",
    "imputer = SimpleImputer(strategy='most_frequent')\n",
    "\n",
    "imputer.fit(data_nulos)\n",
    "imputer.statistics_ # revisar los valores por los que remplazará\n",
    "data_nulos_imputados = imputer.transform(data_nulos)"
   ]
  },
  {
   "cell_type": "code",
   "execution_count": 42,
   "metadata": {},
   "outputs": [
    {
     "data": {
      "text/html": [
       "<div>\n",
       "<style scoped>\n",
       "    .dataframe tbody tr th:only-of-type {\n",
       "        vertical-align: middle;\n",
       "    }\n",
       "\n",
       "    .dataframe tbody tr th {\n",
       "        vertical-align: top;\n",
       "    }\n",
       "\n",
       "    .dataframe thead th {\n",
       "        text-align: right;\n",
       "    }\n",
       "</style>\n",
       "<table border=\"1\" class=\"dataframe\">\n",
       "  <thead>\n",
       "    <tr style=\"text-align: right;\">\n",
       "      <th></th>\n",
       "      <th>Valores_Nulos</th>\n",
       "    </tr>\n",
       "  </thead>\n",
       "  <tbody>\n",
       "    <tr>\n",
       "      <th>ID</th>\n",
       "      <td>0</td>\n",
       "    </tr>\n",
       "    <tr>\n",
       "      <th>Indice_Refraccion</th>\n",
       "      <td>0</td>\n",
       "    </tr>\n",
       "    <tr>\n",
       "      <th>Na</th>\n",
       "      <td>0</td>\n",
       "    </tr>\n",
       "    <tr>\n",
       "      <th>Mg</th>\n",
       "      <td>0</td>\n",
       "    </tr>\n",
       "    <tr>\n",
       "      <th>Al</th>\n",
       "      <td>0</td>\n",
       "    </tr>\n",
       "    <tr>\n",
       "      <th>Si</th>\n",
       "      <td>0</td>\n",
       "    </tr>\n",
       "    <tr>\n",
       "      <th>K</th>\n",
       "      <td>0</td>\n",
       "    </tr>\n",
       "    <tr>\n",
       "      <th>Ca</th>\n",
       "      <td>0</td>\n",
       "    </tr>\n",
       "    <tr>\n",
       "      <th>Ba</th>\n",
       "      <td>0</td>\n",
       "    </tr>\n",
       "    <tr>\n",
       "      <th>Fe</th>\n",
       "      <td>0</td>\n",
       "    </tr>\n",
       "    <tr>\n",
       "      <th>Tipo_Vidrio</th>\n",
       "      <td>0</td>\n",
       "    </tr>\n",
       "  </tbody>\n",
       "</table>\n",
       "</div>"
      ],
      "text/plain": [
       "                   Valores_Nulos\n",
       "ID                             0\n",
       "Indice_Refraccion              0\n",
       "Na                             0\n",
       "Mg                             0\n",
       "Al                             0\n",
       "Si                             0\n",
       "K                              0\n",
       "Ca                             0\n",
       "Ba                             0\n",
       "Fe                             0\n",
       "Tipo_Vidrio                    0"
      ]
     },
     "execution_count": 42,
     "metadata": {},
     "output_type": "execute_result"
    }
   ],
   "source": [
    "data_nulos_imputados = pd.DataFrame(data_nulos_imputados, columns=data.columns)\n",
    "pd.DataFrame(data_nulos_imputados.isnull().sum(), columns=['Valores_Nulos'])"
   ]
  },
  {
   "cell_type": "markdown",
   "metadata": {},
   "source": [
    "### Datos Imbalanceados\n",
    "\n",
    "El problema de los datos imbalanceados es que al predecir datos se tiene una gran exactitud prediciendo la clase mayoritaria, pero falla en capturar la clase minoritaria, que suele ser el objetivo de crear el modelo en primer lugar.\n"
   ]
  },
  {
   "cell_type": "code",
   "execution_count": 43,
   "metadata": {},
   "outputs": [],
   "source": [
    "#Importar datos\n",
    "fraud = pd.read_csv('fraud_dataset.csv')"
   ]
  },
  {
   "cell_type": "code",
   "execution_count": 44,
   "metadata": {},
   "outputs": [
    {
     "data": {
      "text/html": [
       "<div>\n",
       "<style scoped>\n",
       "    .dataframe tbody tr th:only-of-type {\n",
       "        vertical-align: middle;\n",
       "    }\n",
       "\n",
       "    .dataframe tbody tr th {\n",
       "        vertical-align: top;\n",
       "    }\n",
       "\n",
       "    .dataframe thead th {\n",
       "        text-align: right;\n",
       "    }\n",
       "</style>\n",
       "<table border=\"1\" class=\"dataframe\">\n",
       "  <thead>\n",
       "    <tr style=\"text-align: right;\">\n",
       "      <th></th>\n",
       "      <th>Time</th>\n",
       "      <th>V1</th>\n",
       "      <th>V2</th>\n",
       "      <th>V3</th>\n",
       "      <th>V4</th>\n",
       "      <th>V5</th>\n",
       "      <th>V6</th>\n",
       "      <th>V7</th>\n",
       "      <th>V8</th>\n",
       "      <th>V9</th>\n",
       "      <th>...</th>\n",
       "      <th>V21</th>\n",
       "      <th>V22</th>\n",
       "      <th>V23</th>\n",
       "      <th>V24</th>\n",
       "      <th>V25</th>\n",
       "      <th>V26</th>\n",
       "      <th>V27</th>\n",
       "      <th>V28</th>\n",
       "      <th>Amount</th>\n",
       "      <th>Class</th>\n",
       "    </tr>\n",
       "  </thead>\n",
       "  <tbody>\n",
       "    <tr>\n",
       "      <th>0</th>\n",
       "      <td>0.0</td>\n",
       "      <td>-1.359807</td>\n",
       "      <td>-0.072781</td>\n",
       "      <td>2.536347</td>\n",
       "      <td>1.378155</td>\n",
       "      <td>-0.338321</td>\n",
       "      <td>0.462388</td>\n",
       "      <td>0.239599</td>\n",
       "      <td>0.098698</td>\n",
       "      <td>0.363787</td>\n",
       "      <td>...</td>\n",
       "      <td>-0.018307</td>\n",
       "      <td>0.277838</td>\n",
       "      <td>-0.110474</td>\n",
       "      <td>0.066928</td>\n",
       "      <td>0.128539</td>\n",
       "      <td>-0.189115</td>\n",
       "      <td>0.133558</td>\n",
       "      <td>-0.021053</td>\n",
       "      <td>149.62</td>\n",
       "      <td>0</td>\n",
       "    </tr>\n",
       "    <tr>\n",
       "      <th>1</th>\n",
       "      <td>0.0</td>\n",
       "      <td>1.191857</td>\n",
       "      <td>0.266151</td>\n",
       "      <td>0.166480</td>\n",
       "      <td>0.448154</td>\n",
       "      <td>0.060018</td>\n",
       "      <td>-0.082361</td>\n",
       "      <td>-0.078803</td>\n",
       "      <td>0.085102</td>\n",
       "      <td>-0.255425</td>\n",
       "      <td>...</td>\n",
       "      <td>-0.225775</td>\n",
       "      <td>-0.638672</td>\n",
       "      <td>0.101288</td>\n",
       "      <td>-0.339846</td>\n",
       "      <td>0.167170</td>\n",
       "      <td>0.125895</td>\n",
       "      <td>-0.008983</td>\n",
       "      <td>0.014724</td>\n",
       "      <td>2.69</td>\n",
       "      <td>0</td>\n",
       "    </tr>\n",
       "    <tr>\n",
       "      <th>2</th>\n",
       "      <td>1.0</td>\n",
       "      <td>-1.358354</td>\n",
       "      <td>-1.340163</td>\n",
       "      <td>1.773209</td>\n",
       "      <td>0.379780</td>\n",
       "      <td>-0.503198</td>\n",
       "      <td>1.800499</td>\n",
       "      <td>0.791461</td>\n",
       "      <td>0.247676</td>\n",
       "      <td>-1.514654</td>\n",
       "      <td>...</td>\n",
       "      <td>0.247998</td>\n",
       "      <td>0.771679</td>\n",
       "      <td>0.909412</td>\n",
       "      <td>-0.689281</td>\n",
       "      <td>-0.327642</td>\n",
       "      <td>-0.139097</td>\n",
       "      <td>-0.055353</td>\n",
       "      <td>-0.059752</td>\n",
       "      <td>378.66</td>\n",
       "      <td>0</td>\n",
       "    </tr>\n",
       "    <tr>\n",
       "      <th>3</th>\n",
       "      <td>1.0</td>\n",
       "      <td>-0.966272</td>\n",
       "      <td>-0.185226</td>\n",
       "      <td>1.792993</td>\n",
       "      <td>-0.863291</td>\n",
       "      <td>-0.010309</td>\n",
       "      <td>1.247203</td>\n",
       "      <td>0.237609</td>\n",
       "      <td>0.377436</td>\n",
       "      <td>-1.387024</td>\n",
       "      <td>...</td>\n",
       "      <td>-0.108300</td>\n",
       "      <td>0.005274</td>\n",
       "      <td>-0.190321</td>\n",
       "      <td>-1.175575</td>\n",
       "      <td>0.647376</td>\n",
       "      <td>-0.221929</td>\n",
       "      <td>0.062723</td>\n",
       "      <td>0.061458</td>\n",
       "      <td>123.50</td>\n",
       "      <td>0</td>\n",
       "    </tr>\n",
       "    <tr>\n",
       "      <th>4</th>\n",
       "      <td>2.0</td>\n",
       "      <td>-1.158233</td>\n",
       "      <td>0.877737</td>\n",
       "      <td>1.548718</td>\n",
       "      <td>0.403034</td>\n",
       "      <td>-0.407193</td>\n",
       "      <td>0.095921</td>\n",
       "      <td>0.592941</td>\n",
       "      <td>-0.270533</td>\n",
       "      <td>0.817739</td>\n",
       "      <td>...</td>\n",
       "      <td>-0.009431</td>\n",
       "      <td>0.798278</td>\n",
       "      <td>-0.137458</td>\n",
       "      <td>0.141267</td>\n",
       "      <td>-0.206010</td>\n",
       "      <td>0.502292</td>\n",
       "      <td>0.219422</td>\n",
       "      <td>0.215153</td>\n",
       "      <td>69.99</td>\n",
       "      <td>0</td>\n",
       "    </tr>\n",
       "  </tbody>\n",
       "</table>\n",
       "<p>5 rows × 31 columns</p>\n",
       "</div>"
      ],
      "text/plain": [
       "   Time        V1        V2        V3        V4        V5        V6        V7  \\\n",
       "0   0.0 -1.359807 -0.072781  2.536347  1.378155 -0.338321  0.462388  0.239599   \n",
       "1   0.0  1.191857  0.266151  0.166480  0.448154  0.060018 -0.082361 -0.078803   \n",
       "2   1.0 -1.358354 -1.340163  1.773209  0.379780 -0.503198  1.800499  0.791461   \n",
       "3   1.0 -0.966272 -0.185226  1.792993 -0.863291 -0.010309  1.247203  0.237609   \n",
       "4   2.0 -1.158233  0.877737  1.548718  0.403034 -0.407193  0.095921  0.592941   \n",
       "\n",
       "         V8        V9  ...       V21       V22       V23       V24       V25  \\\n",
       "0  0.098698  0.363787  ... -0.018307  0.277838 -0.110474  0.066928  0.128539   \n",
       "1  0.085102 -0.255425  ... -0.225775 -0.638672  0.101288 -0.339846  0.167170   \n",
       "2  0.247676 -1.514654  ...  0.247998  0.771679  0.909412 -0.689281 -0.327642   \n",
       "3  0.377436 -1.387024  ... -0.108300  0.005274 -0.190321 -1.175575  0.647376   \n",
       "4 -0.270533  0.817739  ... -0.009431  0.798278 -0.137458  0.141267 -0.206010   \n",
       "\n",
       "        V26       V27       V28  Amount  Class  \n",
       "0 -0.189115  0.133558 -0.021053  149.62      0  \n",
       "1  0.125895 -0.008983  0.014724    2.69      0  \n",
       "2 -0.139097 -0.055353 -0.059752  378.66      0  \n",
       "3 -0.221929  0.062723  0.061458  123.50      0  \n",
       "4  0.502292  0.219422  0.215153   69.99      0  \n",
       "\n",
       "[5 rows x 31 columns]"
      ]
     },
     "execution_count": 44,
     "metadata": {},
     "output_type": "execute_result"
    }
   ],
   "source": [
    "fraud.head(5)"
   ]
  },
  {
   "cell_type": "code",
   "execution_count": 45,
   "metadata": {},
   "outputs": [
    {
     "data": {
      "text/plain": [
       "(284807, 31)"
      ]
     },
     "execution_count": 45,
     "metadata": {},
     "output_type": "execute_result"
    }
   ],
   "source": [
    "fraud.shape"
   ]
  },
  {
   "cell_type": "code",
   "execution_count": 46,
   "metadata": {},
   "outputs": [
    {
     "data": {
      "text/plain": [
       "0    284315\n",
       "1       492\n",
       "Name: Class, dtype: int64"
      ]
     },
     "execution_count": 46,
     "metadata": {},
     "output_type": "execute_result"
    }
   ],
   "source": [
    "#¿Cuántos datos son fraude?\n",
    "fraud.Class.value_counts()"
   ]
  },
  {
   "cell_type": "code",
   "execution_count": 47,
   "metadata": {},
   "outputs": [
    {
     "name": "stderr",
     "output_type": "stream",
     "text": [
      "C:\\Users\\galle\\anaconda3\\lib\\site-packages\\seaborn\\_decorators.py:36: FutureWarning: Pass the following variable as a keyword arg: x. From version 0.12, the only valid positional argument will be `data`, and passing other arguments without an explicit keyword will result in an error or misinterpretation.\n",
      "  warnings.warn(\n"
     ]
    },
    {
     "data": {
      "image/png": "[encoded data removed]",
      "text/plain": [
       "<Figure size 432x288 with 1 Axes>"
      ]
     },
     "metadata": {
      "needs_background": "light"
     },
     "output_type": "display_data"
    }
   ],
   "source": [
    "#Graficar fraude vs no fraude\n",
    "g = sns.countplot(fraud['Class'])\n",
    "g.set_xticklabels(['Not Fraud', 'Fraud'])\n",
    "plt.show()"
   ]
  },
  {
   "cell_type": "markdown",
   "metadata": {},
   "source": [
    "¿Qué pasa si hago predicciones con los datos así como están?\n",
    "\n",
    "- Para todas esas transacciones que no son fraude, se va a tener una exactitud del 100%\n",
    "- Para esas transacciones que son fraudalentas, se tendría una exactitud del 0%\n",
    "- La exactitud en general sería alta simplemente porque la mayoría de las transacciones no son fraudulentas (no porque su modelo sea bueno).\n"
   ]
  },
  {
   "cell_type": "markdown",
   "metadata": {},
   "source": [
    "#### Técnicas de remuestreo\n",
    "\n",
    "Consiste en eliminar muestras de la clase mayoritaria (submuestreo) y / o agregar más ejemplos de la clase minoritaria (sobremuestreo).\n",
    "\n"
   ]
  },
  {
   "cell_type": "code",
   "execution_count": 48,
   "metadata": {},
   "outputs": [
    {
     "data": {
      "image/png": "[encoded data removed]",
      "text/plain": [
       "<IPython.core.display.Image object>"
      ]
     },
     "execution_count": 48,
     "metadata": {},
     "output_type": "execute_result"
    }
   ],
   "source": [
    "from IPython.display import Image\n",
    "Image(filename='resampling.png')"
   ]
  },
  {
   "cell_type": "code",
   "execution_count": 49,
   "metadata": {},
   "outputs": [
    {
     "data": {
      "text/plain": [
       "0.999213502477116"
      ]
     },
     "execution_count": 49,
     "metadata": {},
     "output_type": "execute_result"
    }
   ],
   "source": [
    "#Haciendo una Regresión Logística con datos imbalanceados\n",
    "from sklearn.metrics import accuracy_score, f1_score, confusion_matrix, roc_auc_score\n",
    "from sklearn.linear_model import LogisticRegression\n",
    "\n",
    "x = fraud.iloc[:, :-1]\n",
    "y = fraud.iloc[:, -1]\n",
    "\n",
    "#Creación de la regresión \n",
    "model =  LogisticRegression(max_iter = 500)\n",
    "model.fit(x, y)\n",
    "y_predict = model.predict(x)\n",
    "accuracy_score(y_predict, y)"
   ]
  },
  {
   "cell_type": "code",
   "execution_count": 50,
   "metadata": {},
   "outputs": [],
   "source": [
    "#conteo de clases\n",
    "class_count_0, class_count_1 = fraud['Class'].value_counts()\n",
    "\n",
    "#separamos las clases\n",
    "class_0 = fraud[fraud['Class'] == 0]\n",
    "class_1 = fraud[fraud['Class'] == 1]"
   ]
  },
  {
   "cell_type": "markdown",
   "metadata": {},
   "source": [
    "##### Balancear datos con la librería \"imblearn\"\n",
    "\n",
    "Se han propuesto varias técnicas de remuestreo más sofisticadas.\n",
    "\n",
    "Por ejemplo, para el **submuestreo** podemos agrupar los registros de la clase mayoritaria y realizar el submuestreo eliminando registros de cada grupo, buscando así preservar la información. En el **sobremuestreo**, en lugar de crear copias exactas de los registros la clase minoritaria, podemos introducir pequeñas variaciones en esas copias, creando muestras sintéticas más diversas.\n"
   ]
  },
  {
   "cell_type": "code",
   "execution_count": 51,
   "metadata": {},
   "outputs": [],
   "source": [
    "#pip install delayed\n",
    "#pip install imblearn\n",
    "#pip install collections\n",
    "import delayed\n",
    "import imblearn\n",
    "from collections import Counter"
   ]
  },
  {
   "cell_type": "code",
   "execution_count": 52,
   "metadata": {},
   "outputs": [
    {
     "name": "stdout",
     "output_type": "stream",
     "text": [
      "Dimension de los datos originales: Counter({0: 284315, 1: 492})\n",
      "Dimension de los datos submuestreados Counter({0: 492, 1: 492})\n"
     ]
    }
   ],
   "source": [
    "#submuestreo\n",
    "from imblearn.under_sampling import RandomUnderSampler\n",
    "\n",
    "rus = RandomUnderSampler(random_state=42, replacement=True)\n",
    "x_rus, y_rus = rus.fit_resample(x, y)\n",
    "\n",
    "print('Dimension de los datos originales:', Counter(y))\n",
    "print('Dimension de los datos submuestreados', Counter(y_rus))"
   ]
  },
  {
   "cell_type": "code",
   "execution_count": 53,
   "metadata": {},
   "outputs": [
    {
     "name": "stdout",
     "output_type": "stream",
     "text": [
      "Dimension de los datos originales: Counter({0: 284315, 1: 492})\n",
      "Dimension de los datos sobremuestreados Counter({0: 284315, 1: 284315})\n"
     ]
    }
   ],
   "source": [
    "#Sobremuestreo\n",
    "from imblearn.over_sampling import RandomOverSampler\n",
    "\n",
    "ros = RandomOverSampler(random_state=42)\n",
    "x_ros, y_ros = ros.fit_resample(x, y)\n",
    "\n",
    "print('Dimension de los datos originales:', Counter(y))\n",
    "print('Dimension de los datos sobremuestreados', Counter(y_ros))"
   ]
  },
  {
   "cell_type": "code",
   "execution_count": 54,
   "metadata": {},
   "outputs": [
    {
     "data": {
      "image/png": "[encoded data removed]",
      "text/plain": [
       "<IPython.core.display.Image object>"
      ]
     },
     "execution_count": 54,
     "metadata": {},
     "output_type": "execute_result"
    }
   ],
   "source": [
    "#Submuestreo Tomek links\n",
    "from IPython.display import Image\n",
    "Image(filename='Tomek.png')"
   ]
  },
  {
   "cell_type": "code",
   "execution_count": 55,
   "metadata": {},
   "outputs": [],
   "source": [
    "from imblearn.under_sampling import TomekLinks\n",
    "\n",
    "tl = TomekLinks(sampling_strategy='majority')"
   ]
  },
  {
   "cell_type": "code",
   "execution_count": null,
   "metadata": {},
   "outputs": [],
   "source": [
    "#ajustando\n",
    "x_tl, y_tl = tl.fit_resample(x, y)\n",
    "\n",
    "\n",
    "print('Dimension de los datos originales:', Counter(y))\n",
    "print('Dimension de los datos submuestreados', Counter(y_tl))"
   ]
  },
  {
   "cell_type": "code",
   "execution_count": 56,
   "metadata": {},
   "outputs": [
    {
     "data": {
      "image/png": "[encoded data removed]",
      "text/plain": [
       "<IPython.core.display.Image object>"
      ]
     },
     "execution_count": 56,
     "metadata": {},
     "output_type": "execute_result"
    }
   ],
   "source": [
    "#Sobremuestreo Synthetic Minority Oversampling Technique (SMOTE)\n",
    "from IPython.display import Image\n",
    "Image(filename='SMOTE.png')"
   ]
  },
  {
   "cell_type": "code",
   "execution_count": 57,
   "metadata": {},
   "outputs": [
    {
     "name": "stdout",
     "output_type": "stream",
     "text": [
      "Dimension de los datos originales: Counter({0: 284315, 1: 492})\n",
      "Dimension de los datos submuestreados Counter({0: 284315, 1: 284315})\n"
     ]
    }
   ],
   "source": [
    "from imblearn.over_sampling import SMOTE\n",
    "\n",
    "smote = SMOTE()\n",
    "\n",
    "#Ajustando\n",
    "x_smote, y_smote = smote.fit_resample(x, y)\n",
    "\n",
    "print('Dimension de los datos originales:', Counter(y))\n",
    "print('Dimension de los datos submuestreados', Counter(y_smote))"
   ]
  },
  {
   "cell_type": "markdown",
   "metadata": {},
   "source": [
    "![ChessUrl](https://miro.medium.com/max/400/1*z6-XWtRlCDKciBd3eS4PzQ.gif \"end\")"
   ]
  },
  {
   "cell_type": "markdown",
   "metadata": {},
   "source": [
    "<script>\n",
    "  $(document).ready(function(){\n",
    "    $('div.prompt').hide();\n",
    "    $('div.back-to-top').hide();\n",
    "    $('nav#menubar').hide();\n",
    "    $('.breadcrumb').hide();\n",
    "    $('.hidden-print').hide();\n",
    "  });\n",
    "</script>\n",
    "\n",
    "<footer id=\"attribution\" style=\"float:right; color:#808080; background:#fff;\">\n",
    "Created with Jupyter by Sara E. Rodríguez.\n",
    "</footer>"
   ]
  }
 ],
 "metadata": {
  "kernelspec": {
   "display_name": "Python 3 (ipykernel)",
   "language": "python",
   "name": "python3"
  },
  "language_info": {
   "codemirror_mode": {
    "name": "ipython",
    "version": 3
   },
   "file_extension": ".py",
   "mimetype": "text/x-python",
   "name": "python",
   "nbconvert_exporter": "python",
   "pygments_lexer": "ipython3",
   "version": "3.9.12"
  }
 },
 "nbformat": 4,
 "nbformat_minor": 4
}
